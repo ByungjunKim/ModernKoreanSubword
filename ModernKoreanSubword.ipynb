{
  "cells": [
    {
      "cell_type": "markdown",
      "metadata": {
        "id": "view-in-github",
        "colab_type": "text"
      },
      "source": [
        "<a href=\"https://colab.research.google.com/github/ByungjunKim/ModernKoreanSubword/blob/main/ModernKoreanSubword.ipynb\" target=\"_parent\"><img src=\"https://colab.research.google.com/assets/colab-badge.svg\" alt=\"Open In Colab\"/></a>"
      ]
    },
    {
      "cell_type": "markdown",
      "metadata": {
        "id": "LBjUcgmt-uKt"
      },
      "source": [
        "# 근대 한국어 서브워드 형태소 분석기"
      ]
    },
    {
      "cell_type": "code",
      "execution_count": 1,
      "metadata": {
        "colab": {
          "base_uri": "https://localhost:8080/"
        },
        "id": "KbDJ_Jx-8svC",
        "outputId": "371c0338-a7c5-45fd-c69f-9442325af404"
      },
      "outputs": [
        {
          "output_type": "stream",
          "name": "stdout",
          "text": [
            "\u001b[2K     \u001b[90m━━━━━━━━━━━━━━━━━━━━━━━━━━━━━━━━━━━━━━━━\u001b[0m \u001b[32m34.7/34.7 MB\u001b[0m \u001b[31m29.5 MB/s\u001b[0m eta \u001b[36m0:00:00\u001b[0m\n",
            "\u001b[?25h  Preparing metadata (setup.py) ... \u001b[?25l\u001b[?25hdone\n",
            "\u001b[2K   \u001b[90m━━━━━━━━━━━━━━━━━━━━━━━━━━━━━━━━━━━━━━━━\u001b[0m \u001b[32m3.5/3.5 MB\u001b[0m \u001b[31m18.8 MB/s\u001b[0m eta \u001b[36m0:00:00\u001b[0m\n",
            "\u001b[?25h  Building wheel for kiwipiepy-model (setup.py) ... \u001b[?25l\u001b[?25hdone\n"
          ]
        }
      ],
      "source": [
        "# kiwi 설치\n",
        "!pip install -U -q kiwipiepy"
      ]
    },
    {
      "cell_type": "code",
      "execution_count": 2,
      "metadata": {
        "colab": {
          "base_uri": "https://localhost:8080/"
        },
        "id": "j2gsshbf8jyD",
        "outputId": "23ccd94f-5a03-4dd6-87d3-8088e055736c"
      },
      "outputs": [
        {
          "output_type": "stream",
          "name": "stdout",
          "text": [
            "Cloning into 'ModernKoreanSubword'...\n",
            "remote: Enumerating objects: 90, done.\u001b[K\n",
            "remote: Counting objects: 100% (90/90), done.\u001b[K\n",
            "remote: Compressing objects: 100% (72/72), done.\u001b[K\n",
            "remote: Total 90 (delta 47), reused 38 (delta 16), pack-reused 0 (from 0)\u001b[K\n",
            "Receiving objects: 100% (90/90), 5.88 MiB | 7.68 MiB/s, done.\n",
            "Resolving deltas: 100% (47/47), done.\n"
          ]
        }
      ],
      "source": [
        "#  서브워드 토크나이저 json 파일 다운로드\n",
        "!git clone https://github.com/ByungjunKim/ModernKoreanSubword"
      ]
    },
    {
      "cell_type": "code",
      "execution_count": 3,
      "metadata": {
        "id": "oozS1ebJ8vWK"
      },
      "outputs": [],
      "source": [
        "# kiwi 로드\n",
        "from kiwipiepy import Kiwi\n",
        "kiwi = Kiwi()\n",
        "from kiwipiepy.sw_tokenizer import SwTokenizer\n",
        "import os\n",
        "from collections import Counter\n",
        "from itertools import islice"
      ]
    },
    {
      "cell_type": "markdown",
      "metadata": {
        "id": "KA8JU4jEi_Mc"
      },
      "source": [
        "### 1. 서브워드 토크나이저 확인"
      ]
    },
    {
      "cell_type": "code",
      "execution_count": 4,
      "metadata": {
        "id": "XJPNKQYT9Jos"
      },
      "outputs": [],
      "source": [
        "# 토크나이저 설정\n",
        "tokenizer = SwTokenizer('./ModernKoreanSubword/tokenizer/241112_vo32000_tokenizer.json', kiwi=kiwi)"
      ]
    },
    {
      "cell_type": "code",
      "execution_count": 5,
      "metadata": {
        "colab": {
          "base_uri": "https://localhost:8080/"
        },
        "id": "ObrGBKpm9PdG",
        "outputId": "be8c65bf-9345-4f9e-db7b-9554b73bb735"
      },
      "outputs": [
        {
          "output_type": "execute_result",
          "data": {
            "text/plain": [
              "array([2189,  173,  618, 1057,    3,  759,  425, 3759, 1159,    5, 9948,\n",
              "          1,   17,  169, 1044, 4755, 3759,    1,   52,   24,  507,  549,\n",
              "          1,   52,   27, 1499, 2805], dtype=uint32)"
            ]
          },
          "metadata": {},
          "execution_count": 5
        }
      ],
      "source": [
        "# 국민신보시대(國民新報時代)에정합방설(政合邦說)을제창(提唱)하야일한연방(日韓聯邦)하기로주론(主論)하기도경(經)하얏고\n",
        "tokenizer.encode('國民新報時代에政合邦說을提唱하야日韓聯邦하기로主論하기도經하얏고')"
      ]
    },
    {
      "cell_type": "code",
      "execution_count": 6,
      "metadata": {
        "colab": {
          "base_uri": "https://localhost:8080/"
        },
        "id": "ITwAKuwmljKb",
        "outputId": "3625a345-c602-4d7f-ae33-5742c43e64b8"
      },
      "outputs": [
        {
          "output_type": "execute_result",
          "data": {
            "text/plain": [
              "[('##기', 120),\n",
              " ('##上', 121),\n",
              " ('##명', 122),\n",
              " ('##後', 123),\n",
              " ('##은', 124),\n",
              " ('것', 125),\n",
              " ('##及', 126),\n",
              " ('다고/E', 127),\n",
              " ('·', 128),\n",
              " ('##나', 129),\n",
              " ('##로', 130),\n",
              " ('##問題', 131),\n",
              " ('##山', 132),\n",
              " ('##인', 133),\n",
              " ('가지/V', 134),\n",
              " ('##八', 135),\n",
              " ('라는/E', 136),\n",
              " ('##에', 137),\n",
              " ('##七', 138),\n",
              " ('##의', 139)]"
            ]
          },
          "metadata": {},
          "execution_count": 6
        }
      ],
      "source": [
        "# 토크나이저 내장 단어 목록 확인\n",
        "list(tokenizer.vocab.items())[120:140]"
      ]
    },
    {
      "cell_type": "code",
      "execution_count": 8,
      "metadata": {
        "id": "GQ4qyXeesZd8"
      },
      "outputs": [],
      "source": [
        "# 토크나이징 함수 정의\n",
        "def tokenize(sentence):\n",
        "  vocab_list = tokenizer.encode(sentence)\n",
        "  return [tokenizer.id2vocab[i].lstrip('##') for i in vocab_list] # 서브워드 표기('##') 제거"
      ]
    },
    {
      "cell_type": "code",
      "execution_count": 9,
      "metadata": {
        "colab": {
          "base_uri": "https://localhost:8080/"
        },
        "id": "Z_DY4rz7sf4h",
        "outputId": "a7db7017-13d7-4524-b22e-136e3a191dbd"
      },
      "outputs": [
        {
          "output_type": "execute_result",
          "data": {
            "text/plain": [
              "['國民',\n",
              " '新',\n",
              " '報',\n",
              " '時代',\n",
              " '에/J',\n",
              " '政',\n",
              " '合',\n",
              " '邦',\n",
              " '說',\n",
              " '을/J',\n",
              " '提唱',\n",
              " '하/V',\n",
              " '야/E',\n",
              " '日',\n",
              " '韓',\n",
              " '聯',\n",
              " '邦',\n",
              " '하/V',\n",
              " '기/E',\n",
              " '로/J',\n",
              " '主',\n",
              " '論',\n",
              " '하/V',\n",
              " '기/E',\n",
              " '도/J',\n",
              " '經',\n",
              " '하얏고']"
            ]
          },
          "metadata": {},
          "execution_count": 9
        }
      ],
      "source": [
        "tokenize('國民新報時代에政合邦說을提唱하야日韓聯邦하기로主論하기도經하얏고')"
      ]
    },
    {
      "cell_type": "markdown",
      "metadata": {
        "id": "_7Eh3k_bjKDi"
      },
      "source": [
        "### 2. 여러 토크나이저 성능 비교"
      ]
    },
    {
      "cell_type": "code",
      "execution_count": 10,
      "metadata": {
        "id": "eo-wgrA0jRGO"
      },
      "outputs": [],
      "source": [
        "# 토크나이저 파일명 목록\n",
        "tokenizer_files = ['vo32000', 'vo48000', 'vo64000'] # 최대 단어수\n",
        "base_path = './ModernKoreanSubword/tokenizer/'"
      ]
    },
    {
      "cell_type": "code",
      "execution_count": 11,
      "metadata": {
        "id": "492PA0y9jR68"
      },
      "outputs": [],
      "source": [
        "# 같은 문장에 대해 각 토크나이저로 토크나이징 결과 확인\n",
        "target_sentence = '國民新報時代에政合邦說을提唱하야日韓聯邦하기로主論하기도經하얏고'\n",
        "\n",
        "tokenizer_results = {}\n",
        "for tokenizer_file in tokenizer_files:\n",
        "    tokenizer_path = os.path.join(base_path, f\"241112_{tokenizer_file}_tokenizer.json\")\n",
        "    tokenizer = SwTokenizer(tokenizer_path, kiwi=kiwi)\n",
        "    vocab_list = tokenizer.encode(target_sentence)\n",
        "    tokens = [tokenizer.id2vocab[i].lstrip('##') for i in vocab_list]\n",
        "    tokenizer_results[tokenizer_file] = tokens"
      ]
    },
    {
      "cell_type": "code",
      "execution_count": 12,
      "metadata": {
        "colab": {
          "base_uri": "https://localhost:8080/"
        },
        "id": "8scBVCMNjWHZ",
        "outputId": "ac6cc6a4-ed7d-4618-e137-e7b98fa70e14"
      },
      "outputs": [
        {
          "output_type": "stream",
          "name": "stdout",
          "text": [
            "토크나이저 vo32000 결과: ['國民', '新', '報', '時代', '에/J', '政', '合', '邦', '說', '을/J', '提唱', '하/V', '야/E', '日', '韓', '聯', '邦', '하/V', '기/E', '로/J', '主', '論', '하/V', '기/E', '도/J', '經', '하얏고']\n",
            "\n",
            "토크나이저 vo48000 결과: ['國民', '新', '報', '時代', '에/J', '政', '合', '邦', '說', '을/J', '提唱', '하/V', '야/E', '日', '韓', '聯邦', '하/V', '기/E', '로/J', '主', '論', '하/V', '기/E', '도/J', '經', '하얏고']\n",
            "\n",
            "토크나이저 vo64000 결과: ['國民', '新報', '時代', '에/J', '政', '合', '邦', '說', '을/J', '提唱', '하/V', '야/E', '日', '韓', '聯邦', '하/V', '기/E', '로/J', '主', '論', '하/V', '기/E', '도/J', '經', '하얏고']\n",
            "\n"
          ]
        }
      ],
      "source": [
        "# 토크나이징 결과 출력 및 비교\n",
        "for tokenizer_file, tokens in tokenizer_results.items():\n",
        "    print(f\"토크나이저 {tokenizer_file} 결과: {tokens}\\n\")"
      ]
    },
    {
      "cell_type": "code",
      "execution_count": 13,
      "metadata": {
        "colab": {
          "base_uri": "https://localhost:8080/"
        },
        "id": "1T1RWi_Ll_hB",
        "outputId": "141ce2ce-e9d2-4ea5-b2d8-113ff9f91b00"
      },
      "outputs": [
        {
          "output_type": "stream",
          "name": "stdout",
          "text": [
            "토크나이저 vo32000과 vo48000의 다른 토큰들: ['聯', '聯邦']\n",
            "\n",
            "토크나이저 vo48000과 vo64000의 다른 토큰들: ['新', '新報', '報']\n",
            "\n"
          ]
        }
      ],
      "source": [
        "# 토크나이저 간의 결과 비교\n",
        "tokenizer_pairs = [(tokenizer_files[i], tokenizer_files[i + 1]) for i in range(len(tokenizer_files) - 1)]\n",
        "for file1, file2 in tokenizer_pairs:\n",
        "    diff = set(tokenizer_results[file1]) ^ set(tokenizer_results[file2])\n",
        "    if diff:\n",
        "        print(f\"토크나이저 {file1}과 {file2}의 다른 토큰들: {list(diff)}\\n\")"
      ]
    },
    {
      "cell_type": "code",
      "execution_count": 14,
      "metadata": {
        "colab": {
          "base_uri": "https://localhost:8080/"
        },
        "id": "4x-iX71gnWph",
        "outputId": "225c2794-2f9f-4f32-eddb-d2fa8c75597e"
      },
      "outputs": [
        {
          "output_type": "stream",
          "name": "stdout",
          "text": [
            "토크나이저 vo32000과 vo48000의 비교 결과:\n",
            "  토크나이저 vo32000에만 포함된 토큰들: ['聯']\n",
            "  토크나이저 vo48000에만 포함된 토큰들: ['聯邦']\n",
            "\n",
            "토크나이저 vo48000과 vo64000의 비교 결과:\n",
            "  토크나이저 vo48000에만 포함된 토큰들: ['新', '報']\n",
            "  토크나이저 vo64000에만 포함된 토큰들: ['新報']\n",
            "\n"
          ]
        }
      ],
      "source": [
        "# 토크나이저 간의 결과 비교\n",
        "tokenizer_pairs = [(tokenizer_files[i], tokenizer_files[i + 1]) for i in range(len(tokenizer_files) - 1)]\n",
        "for file1, file2 in tokenizer_pairs:\n",
        "    diff_tokens = set(tokenizer_results[file1]) ^ set(tokenizer_results[file2])\n",
        "    file1_only = [token for token in tokenizer_results[file1] if token not in tokenizer_results[file2]]\n",
        "    file2_only = [token for token in tokenizer_results[file2] if token not in tokenizer_results[file1]]\n",
        "    if diff_tokens:\n",
        "        print(f\"토크나이저 {file1}과 {file2}의 비교 결과:\")\n",
        "        print(f\"  토크나이저 {file1}에만 포함된 토큰들: {file1_only}\")\n",
        "        print(f\"  토크나이저 {file2}에만 포함된 토큰들: {file2_only}\\n\")"
      ]
    },
    {
      "cell_type": "code",
      "execution_count": 16,
      "metadata": {
        "id": "4WVqjxVDjd8z"
      },
      "outputs": [],
      "source": [
        "# 각 토크나이저에 고유하게 등록된 단어 비교\n",
        "unique_words = {}\n",
        "all_words = Counter()\n",
        "\n",
        "# 모든 단어 수집 및 고유 단어 확인\n",
        "tokenizer_vocabularies = {}\n",
        "for tokenizer_file in tokenizer_files:\n",
        "    tokenizer_path = os.path.join(base_path, f\"241112_{tokenizer_file}_tokenizer.json\")\n",
        "    tokenizer = SwTokenizer(tokenizer_path, kiwi=kiwi)\n",
        "    vocab = tokenizer.vocab  # 전체 단어 목록 가져오기 (dict 형태)\n",
        "    processed_vocab = {word.lstrip('##') for word in vocab.keys()}  # ## 제거\n",
        "    tokenizer_vocabularies[tokenizer_file] = processed_vocab\n",
        "    all_words.update(processed_vocab)\n",
        "\n",
        "for tokenizer_file, vocab in tokenizer_vocabularies.items():\n",
        "    unique_words[tokenizer_file] = [word for word in vocab if all_words[word] == 1]"
      ]
    },
    {
      "cell_type": "code",
      "execution_count": 17,
      "metadata": {
        "colab": {
          "base_uri": "https://localhost:8080/"
        },
        "id": "eOnLIAJgjpWX",
        "outputId": "78aad81c-f436-41d8-82d1-7883215db4eb"
      },
      "outputs": [
        {
          "output_type": "stream",
          "name": "stdout",
          "text": [
            "토크나이저 vo32000에 고유하게 등록된 단어 수: 23\n",
            "고유 단어 예시: ['融緩漫', '꽁하/V', '소박하/V', '事次本社來', '大히擧行하얏', '해도재녕', '滿拓殖', '산상공회의소', 'oth', '立尋常', '在滿機構改', 'pane', '濟뿔럭', '次五個年計', '活必需', '南利原郡', '一志二片三', '洋拓殖', '소를뎨긔', '勞農政', '멋대', 'ationa', '鮮博覽會']\n",
            "\n",
            "토크나이저 vo48000에 고유하게 등록된 단어 수: 22\n",
            "고유 단어 예시: ['동학교', '錢四等二十圓', '國委員會', '錢四等二十一圓', '第七號違', '俉', '板垣陸', '珝', '語奉答文', '專外科李容', '桯', '盯', '重奏', '奉答', '럿케', '호별', '笳', '条', '狑', '祝', '稻田', '十九分']\n",
            "\n",
            "토크나이저 vo64000에 고유하게 등록된 단어 수: 10989\n",
            "고유 단어 예시: ['칵', '趣意', '談判', '三萬餘圓', '팽창', '空相', '을演', '富山', '至當', '織造', '엥', '六萬五千', '全滿', '戰地', '스파이', '을떠나', '一般이', '四百六十', '會席上', '한섬', '鮮銀總裁', '져셔', '몬로', '자아', '정류장', '발작', '그方法', '할수잇슬', '투숙', '十一圓臺']\n",
            "\n"
          ]
        }
      ],
      "source": [
        "# 고유 단어 결과 출력\n",
        "for tokenizer_file, words in unique_words.items():\n",
        "    print(f\"토크나이저 {tokenizer_file}에 고유하게 등록된 단어 수: {len(words)}\")\n",
        "    print(f\"고유 단어 예시: {words[:30]}\\n\")"
      ]
    }
  ],
  "metadata": {
    "colab": {
      "provenance": [],
      "include_colab_link": true
    },
    "kernelspec": {
      "display_name": "Python 3",
      "name": "python3"
    },
    "language_info": {
      "name": "python"
    }
  },
  "nbformat": 4,
  "nbformat_minor": 0
}