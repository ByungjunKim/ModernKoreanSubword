{
  "cells": [
    {
      "cell_type": "markdown",
      "metadata": {
        "colab_type": "text",
        "id": "view-in-github"
      },
      "source": [
        "<a href=\"https://colab.research.google.com/github/ByungjunKim/ModernKoreanSubword/blob/main/ModernKoreanSubword_Train.ipynb\" target=\"_parent\"><img src=\"https://colab.research.google.com/assets/colab-badge.svg\" alt=\"Open In Colab\"/></a>"
      ]
    },
    {
      "cell_type": "markdown",
      "metadata": {
        "id": "J0SDHrHgdyTN"
      },
      "source": [
        "# 근대 한국어 서브워드 형태소 분석기 학습"
      ]
    },
    {
      "cell_type": "markdown",
      "metadata": {
        "id": "2e7SnyYRinXo"
      },
      "source": [
        "### 서브워드 학습 준비"
      ]
    },
    {
      "cell_type": "code",
      "execution_count": 1,
      "metadata": {
        "colab": {
          "base_uri": "https://localhost:8080/",
          "height": 436
        },
        "id": "rFofz3KcdtcS",
        "outputId": "1174ef78-0405-4f2b-ddfd-8108940fa852"
      },
      "outputs": [
        {
          "name": "stdout",
          "output_type": "stream",
          "text": [
            "Collecting kiwipiepy\n",
            "  Downloading kiwipiepy-0.15.2-cp310-cp310-manylinux_2_17_x86_64.manylinux2014_x86_64.whl (2.5 MB)\n",
            "\u001b[2K     \u001b[90m━━━━━━━━━━━━━━━━━━━━━━━━━━━━━━━━━━━━━━━━\u001b[0m \u001b[32m2.5/2.5 MB\u001b[0m \u001b[31m7.7 MB/s\u001b[0m eta \u001b[36m0:00:00\u001b[0m\n",
            "\u001b[?25hCollecting dataclasses (from kiwipiepy)\n",
            "  Downloading dataclasses-0.6-py3-none-any.whl (14 kB)\n",
            "Collecting kiwipiepy-model~=0.15 (from kiwipiepy)\n",
            "  Downloading kiwipiepy_model-0.15.0.tar.gz (30.5 MB)\n",
            "\u001b[2K     \u001b[90m━━━━━━━━━━━━━━━━━━━━━━━━━━━━━━━━━━━━━━━━\u001b[0m \u001b[32m30.5/30.5 MB\u001b[0m \u001b[31m34.2 MB/s\u001b[0m eta \u001b[36m0:00:00\u001b[0m\n",
            "\u001b[?25h  Preparing metadata (setup.py) ... \u001b[?25l\u001b[?25hdone\n",
            "Requirement already satisfied: numpy in /usr/local/lib/python3.10/dist-packages (from kiwipiepy) (1.22.4)\n",
            "Requirement already satisfied: tqdm in /usr/local/lib/python3.10/dist-packages (from kiwipiepy) (4.65.0)\n",
            "Building wheels for collected packages: kiwipiepy-model\n",
            "  Building wheel for kiwipiepy-model (setup.py) ... \u001b[?25l\u001b[?25hdone\n",
            "  Created wheel for kiwipiepy-model: filename=kiwipiepy_model-0.15.0-py3-none-any.whl size=30602629 sha256=480fa4e933e6ad1c104191dbe67cc5ab3a23950302f20f7d6c09375ba810f5d0\n",
            "  Stored in directory: /root/.cache/pip/wheels/f3/55/41/ca474338ece1bc4314b01445f64ff002d71e19df45575a16e2\n",
            "Successfully built kiwipiepy-model\n",
            "Installing collected packages: kiwipiepy-model, dataclasses, kiwipiepy\n",
            "Successfully installed dataclasses-0.6 kiwipiepy-0.15.2 kiwipiepy-model-0.15.0\n"
          ]
        },
        {
          "data": {
            "application/vnd.colab-display-data+json": {
              "pip_warning": {
                "packages": [
                  "dataclasses"
                ]
              }
            }
          },
          "metadata": {},
          "output_type": "display_data"
        }
      ],
      "source": [
        "# kiwi 설치\n",
        "!pip install -U kiwipiepy"
      ]
    },
    {
      "cell_type": "code",
      "execution_count": 1,
      "metadata": {
        "colab": {
          "base_uri": "https://localhost:8080/"
        },
        "id": "NPZ_fHSHhji3",
        "outputId": "83b503c7-c946-4bb9-a892-e4df636f6b80"
      },
      "outputs": [
        {
          "name": "stdout",
          "output_type": "stream",
          "text": [
            "Cloning into 'ModernKoreanSubword'...\n",
            "remote: Enumerating objects: 33, done.\u001b[K\n",
            "remote: Counting objects: 100% (33/33), done.\u001b[K\n",
            "remote: Compressing objects: 100% (27/27), done.\u001b[K\n",
            "remote: Total 33 (delta 12), reused 9 (delta 4), pack-reused 0\u001b[K\n",
            "Receiving objects: 100% (33/33), 1.12 MiB | 12.00 MiB/s, done.\n",
            "Resolving deltas: 100% (12/12), done.\n"
          ]
        }
      ],
      "source": [
        "#  깃허브 레포 클론\n",
        "!git clone https://github.com/ByungjunKim/ModernKoreanSubword"
      ]
    },
    {
      "cell_type": "code",
      "execution_count": 3,
      "metadata": {
        "id": "JXLd3XvGhn0H"
      },
      "outputs": [],
      "source": [
        "import pandas as pd\n",
        "\n",
        "# kiwi 로드\n",
        "from kiwipiepy import Kiwi\n",
        "kiwi = Kiwi()\n",
        "from kiwipiepy.sw_tokenizer import SwTokenizer\n",
        "from kiwipiepy.sw_tokenizer import SwTokenizerConfig"
      ]
    },
    {
      "cell_type": "code",
      "execution_count": 10,
      "metadata": {
        "colab": {
          "base_uri": "https://localhost:8080/",
          "height": 423
        },
        "id": "YSp-iO5KhyC3",
        "outputId": "da874d11-d1f9-44a6-e200-8c639e0b2090"
      },
      "outputs": [
        {
          "data": {
            "text/html": [
              "\n",
              "\n",
              "  <div id=\"df-df78b693-8ffc-4021-91bd-b483e8b4aba5\">\n",
              "    <div class=\"colab-df-container\">\n",
              "      <div>\n",
              "<style scoped>\n",
              "    .dataframe tbody tr th:only-of-type {\n",
              "        vertical-align: middle;\n",
              "    }\n",
              "\n",
              "    .dataframe tbody tr th {\n",
              "        vertical-align: top;\n",
              "    }\n",
              "\n",
              "    .dataframe thead th {\n",
              "        text-align: right;\n",
              "    }\n",
              "</style>\n",
              "<table border=\"1\" class=\"dataframe\">\n",
              "  <thead>\n",
              "    <tr style=\"text-align: right;\">\n",
              "      <th></th>\n",
              "      <th>text</th>\n",
              "    </tr>\n",
              "  </thead>\n",
              "  <tbody>\n",
              "    <tr>\n",
              "      <th>0</th>\n",
              "      <td>印度國民會議\\n派의議會鬪爭\\n英印協定廢棄可决\\n一\\n 三十日 뉴델리發 電報에 依하면...</td>\n",
              "    </tr>\n",
              "    <tr>\n",
              "      <th>1</th>\n",
              "      <td>金堤住民死活關頭\\n阿部提坊撤廢問題\\n삼면주민의생명재산을위협하는\\n뎨방을일인의리익을위...</td>\n",
              "    </tr>\n",
              "    <tr>\n",
              "      <th>2</th>\n",
              "      <td>李王職次官新任\\n上林敬次郎氏로\\n咸北道知事로잇다가辭職한지未久한上林敬次郞氏는故國分次官...</td>\n",
              "    </tr>\n",
              "    <tr>\n",
              "      <th>3</th>\n",
              "      <td>金正革氏歸任\\n 월간 취미잡지『신세기(新世紀)』사의 청을바다 집필하엿던것이 마침내는...</td>\n",
              "    </tr>\n",
              "    <tr>\n",
              "      <th>4</th>\n",
              "      <td>叛軍首都에迫하야\\n政府軍을威嚇\\n【雅典六日發同盟】西班牙叛軍은이제首都마드리드市의 城門...</td>\n",
              "    </tr>\n",
              "    <tr>\n",
              "      <th>...</th>\n",
              "      <td>...</td>\n",
              "    </tr>\n",
              "    <tr>\n",
              "      <th>995</th>\n",
              "      <td>郵船重役會開催\\n 【東京電】日本郵船는廿四日午後二時부터重役會를開하고决算案을備附議하얏는...</td>\n",
              "    </tr>\n",
              "    <tr>\n",
              "      <th>996</th>\n",
              "      <td>八面鋒\\n 仁川取引□忠南道廳의兩派陳情員은東京서活動\\n 民政,政友의兩派議員은院內서亂鬪...</td>\n",
              "    </tr>\n",
              "    <tr>\n",
              "      <th>997</th>\n",
              "      <td>仁川水道의計量\\n仁川水道의計量制實施에對하야는旣히計量器設備工事에着手하야着々進捗中인데最...</td>\n",
              "    </tr>\n",
              "    <tr>\n",
              "      <th>998</th>\n",
              "      <td>올림픽招致에\\n英國突然進出\\n日本에게큰障碍\\n【倫敦廿二日發同盟】第十二回國際올림픽大會...</td>\n",
              "    </tr>\n",
              "    <tr>\n",
              "      <th>999</th>\n",
              "      <td>十六미리通信\\n世界最小의\\n矮人死去\\n 하를드·파이오라는 本名보담도차라리 『타이니·...</td>\n",
              "    </tr>\n",
              "  </tbody>\n",
              "</table>\n",
              "<p>1000 rows × 1 columns</p>\n",
              "</div>\n",
              "      <button class=\"colab-df-convert\" onclick=\"convertToInteractive('df-df78b693-8ffc-4021-91bd-b483e8b4aba5')\"\n",
              "              title=\"Convert this dataframe to an interactive table.\"\n",
              "              style=\"display:none;\">\n",
              "\n",
              "  <svg xmlns=\"http://www.w3.org/2000/svg\" height=\"24px\"viewBox=\"0 0 24 24\"\n",
              "       width=\"24px\">\n",
              "    <path d=\"M0 0h24v24H0V0z\" fill=\"none\"/>\n",
              "    <path d=\"M18.56 5.44l.94 2.06.94-2.06 2.06-.94-2.06-.94-.94-2.06-.94 2.06-2.06.94zm-11 1L8.5 8.5l.94-2.06 2.06-.94-2.06-.94L8.5 2.5l-.94 2.06-2.06.94zm10 10l.94 2.06.94-2.06 2.06-.94-2.06-.94-.94-2.06-.94 2.06-2.06.94z\"/><path d=\"M17.41 7.96l-1.37-1.37c-.4-.4-.92-.59-1.43-.59-.52 0-1.04.2-1.43.59L10.3 9.45l-7.72 7.72c-.78.78-.78 2.05 0 2.83L4 21.41c.39.39.9.59 1.41.59.51 0 1.02-.2 1.41-.59l7.78-7.78 2.81-2.81c.8-.78.8-2.07 0-2.86zM5.41 20L4 18.59l7.72-7.72 1.47 1.35L5.41 20z\"/>\n",
              "  </svg>\n",
              "      </button>\n",
              "\n",
              "\n",
              "\n",
              "    <div id=\"df-2c2d6347-e114-415b-b19b-48920f4f8fd0\">\n",
              "      <button class=\"colab-df-quickchart\" onclick=\"quickchart('df-2c2d6347-e114-415b-b19b-48920f4f8fd0')\"\n",
              "              title=\"Suggest charts.\"\n",
              "              style=\"display:none;\">\n",
              "\n",
              "<svg xmlns=\"http://www.w3.org/2000/svg\" height=\"24px\"viewBox=\"0 0 24 24\"\n",
              "     width=\"24px\">\n",
              "    <g>\n",
              "        <path d=\"M19 3H5c-1.1 0-2 .9-2 2v14c0 1.1.9 2 2 2h14c1.1 0 2-.9 2-2V5c0-1.1-.9-2-2-2zM9 17H7v-7h2v7zm4 0h-2V7h2v10zm4 0h-2v-4h2v4z\"/>\n",
              "    </g>\n",
              "</svg>\n",
              "      </button>\n",
              "    </div>\n",
              "\n",
              "<style>\n",
              "  .colab-df-quickchart {\n",
              "    background-color: #E8F0FE;\n",
              "    border: none;\n",
              "    border-radius: 50%;\n",
              "    cursor: pointer;\n",
              "    display: none;\n",
              "    fill: #1967D2;\n",
              "    height: 32px;\n",
              "    padding: 0 0 0 0;\n",
              "    width: 32px;\n",
              "  }\n",
              "\n",
              "  .colab-df-quickchart:hover {\n",
              "    background-color: #E2EBFA;\n",
              "    box-shadow: 0px 1px 2px rgba(60, 64, 67, 0.3), 0px 1px 3px 1px rgba(60, 64, 67, 0.15);\n",
              "    fill: #174EA6;\n",
              "  }\n",
              "\n",
              "  [theme=dark] .colab-df-quickchart {\n",
              "    background-color: #3B4455;\n",
              "    fill: #D2E3FC;\n",
              "  }\n",
              "\n",
              "  [theme=dark] .colab-df-quickchart:hover {\n",
              "    background-color: #434B5C;\n",
              "    box-shadow: 0px 1px 3px 1px rgba(0, 0, 0, 0.15);\n",
              "    filter: drop-shadow(0px 1px 2px rgba(0, 0, 0, 0.3));\n",
              "    fill: #FFFFFF;\n",
              "  }\n",
              "</style>\n",
              "\n",
              "    <script>\n",
              "      async function quickchart(key) {\n",
              "        const containerElement = document.querySelector('#' + key);\n",
              "        const charts = await google.colab.kernel.invokeFunction(\n",
              "            'suggestCharts', [key], {});\n",
              "      }\n",
              "    </script>\n",
              "\n",
              "      <script>\n",
              "\n",
              "function displayQuickchartButton(domScope) {\n",
              "  let quickchartButtonEl =\n",
              "    domScope.querySelector('#df-2c2d6347-e114-415b-b19b-48920f4f8fd0 button.colab-df-quickchart');\n",
              "  quickchartButtonEl.style.display =\n",
              "    google.colab.kernel.accessAllowed ? 'block' : 'none';\n",
              "}\n",
              "\n",
              "        displayQuickchartButton(document);\n",
              "      </script>\n",
              "      <style>\n",
              "    .colab-df-container {\n",
              "      display:flex;\n",
              "      flex-wrap:wrap;\n",
              "      gap: 12px;\n",
              "    }\n",
              "\n",
              "    .colab-df-convert {\n",
              "      background-color: #E8F0FE;\n",
              "      border: none;\n",
              "      border-radius: 50%;\n",
              "      cursor: pointer;\n",
              "      display: none;\n",
              "      fill: #1967D2;\n",
              "      height: 32px;\n",
              "      padding: 0 0 0 0;\n",
              "      width: 32px;\n",
              "    }\n",
              "\n",
              "    .colab-df-convert:hover {\n",
              "      background-color: #E2EBFA;\n",
              "      box-shadow: 0px 1px 2px rgba(60, 64, 67, 0.3), 0px 1px 3px 1px rgba(60, 64, 67, 0.15);\n",
              "      fill: #174EA6;\n",
              "    }\n",
              "\n",
              "    [theme=dark] .colab-df-convert {\n",
              "      background-color: #3B4455;\n",
              "      fill: #D2E3FC;\n",
              "    }\n",
              "\n",
              "    [theme=dark] .colab-df-convert:hover {\n",
              "      background-color: #434B5C;\n",
              "      box-shadow: 0px 1px 3px 1px rgba(0, 0, 0, 0.15);\n",
              "      filter: drop-shadow(0px 1px 2px rgba(0, 0, 0, 0.3));\n",
              "      fill: #FFFFFF;\n",
              "    }\n",
              "  </style>\n",
              "\n",
              "      <script>\n",
              "        const buttonEl =\n",
              "          document.querySelector('#df-df78b693-8ffc-4021-91bd-b483e8b4aba5 button.colab-df-convert');\n",
              "        buttonEl.style.display =\n",
              "          google.colab.kernel.accessAllowed ? 'block' : 'none';\n",
              "\n",
              "        async function convertToInteractive(key) {\n",
              "          const element = document.querySelector('#df-df78b693-8ffc-4021-91bd-b483e8b4aba5');\n",
              "          const dataTable =\n",
              "            await google.colab.kernel.invokeFunction('convertToInteractive',\n",
              "                                                     [key], {});\n",
              "          if (!dataTable) return;\n",
              "\n",
              "          const docLinkHtml = 'Like what you see? Visit the ' +\n",
              "            '<a target=\"_blank\" href=https://colab.research.google.com/notebooks/data_table.ipynb>data table notebook</a>'\n",
              "            + ' to learn more about interactive tables.';\n",
              "          element.innerHTML = '';\n",
              "          dataTable['output_type'] = 'display_data';\n",
              "          await google.colab.output.renderOutput(dataTable, element);\n",
              "          const docLink = document.createElement('div');\n",
              "          docLink.innerHTML = docLinkHtml;\n",
              "          element.appendChild(docLink);\n",
              "        }\n",
              "      </script>\n",
              "    </div>\n",
              "  </div>\n"
            ],
            "text/plain": [
              "                                                  text\n",
              "0    印度國民會議\\n派의議會鬪爭\\n英印協定廢棄可决\\n一\\n 三十日 뉴델리發 電報에 依하면...\n",
              "1    金堤住民死活關頭\\n阿部提坊撤廢問題\\n삼면주민의생명재산을위협하는\\n뎨방을일인의리익을위...\n",
              "2    李王職次官新任\\n上林敬次郎氏로\\n咸北道知事로잇다가辭職한지未久한上林敬次郞氏는故國分次官...\n",
              "3    金正革氏歸任\\n 월간 취미잡지『신세기(新世紀)』사의 청을바다 집필하엿던것이 마침내는...\n",
              "4    叛軍首都에迫하야\\n政府軍을威嚇\\n【雅典六日發同盟】西班牙叛軍은이제首都마드리드市의 城門...\n",
              "..                                                 ...\n",
              "995  郵船重役會開催\\n 【東京電】日本郵船는廿四日午後二時부터重役會를開하고决算案을備附議하얏는...\n",
              "996  八面鋒\\n 仁川取引□忠南道廳의兩派陳情員은東京서活動\\n 民政,政友의兩派議員은院內서亂鬪...\n",
              "997  仁川水道의計量\\n仁川水道의計量制實施에對하야는旣히計量器設備工事에着手하야着々進捗中인데最...\n",
              "998  올림픽招致에\\n英國突然進出\\n日本에게큰障碍\\n【倫敦廿二日發同盟】第十二回國際올림픽大會...\n",
              "999  十六미리通信\\n世界最小의\\n矮人死去\\n 하를드·파이오라는 本名보담도차라리 『타이니·...\n",
              "\n",
              "[1000 rows x 1 columns]"
            ]
          },
          "execution_count": 10,
          "metadata": {},
          "output_type": "execute_result"
        }
      ],
      "source": [
        "# 조선일보 샘플 데이터 로드 (샘플 1000개 텍스트, 1920~45)\n",
        "df = pd.read_excel('./ModernKoreanSubword/chosun_1920_1945_sample.xlsx')\n",
        "df"
      ]
    },
    {
      "cell_type": "code",
      "execution_count": 11,
      "metadata": {
        "colab": {
          "base_uri": "https://localhost:8080/"
        },
        "id": "XRGU9wtjh-Ir",
        "outputId": "7e1e57b0-0d22-47ff-8804-5e0b40526ae6"
      },
      "outputs": [
        {
          "name": "stdout",
          "output_type": "stream",
          "text": [
            "印度國民會議\n",
            "派의議會鬪爭\n",
            "英印協定廢棄可决\n",
            "一\n",
            " 三十日 뉴델리發 電報에 依하면 印度立法議會는 曩者 英印間에 成立된 英印協定을 六十六票 對五十九票로 廢棄하기로 决定하얏다한다.印度에適用하는 法律은 印度立法議會의 議决을 要하고 英本國과 關係되는 法律은 英本國議會의議决을經해서 비로서 成立되는것인데英印協定이 먼저 印度立法議會에서 廢棄키로 可决되엇스니 設使同協定이 英本國議會를 通過한다하드래도 印度에 實施되지못하고만다.그러므로 一九三〇年 九月 英印第一圓卓會議以來荏苒 五個年餘를 要하야成立한妥協的英印協定은 그만 水泡로歸하고 英印間에는依然 軋轢狀態가 繼續하게되는셈이다.\n",
            "二\n",
            " 印度 立法議會가 英印協定을廢棄하기로 可决하게되 裡面에는 印度國民會議派의 活動이잇슴을 이저서는 안된다 印度國民會議派는 一九三〇年 反英獨立을 可决한以來 或은 反英示威行脚으로 或은 鹽倉庫襲擊으로 或은 森林法破棄로 或은納稅拒絶己 或은 撤市로 或은餓死同盟으로 反英運動을 繼續하얏스며 때로는 英印圓卓會議에 參與하므로써 或은 印回兩敎徒間의 選擧區에 對한協定을 英本國에 電請하므로써 英國에 妥協하기도하얏다.그러나 要點은 現行 印度統治法이一九二九年末日로 滿期가 되므로 그뒤에 올 印度新統治法이印度人의 要呈여 얼마쯤 맛게해주는가를 監視하는데 不過하얏스나 英印間에成立한 英印協定은 印度國民會議派가 要求하든 愛□과가튼 自治領의 地位와는 相距가 멀므로 이에 反對하얏스나 非合法的 行動으로는 人命으로 四萬餘,財產上으로 累億의 犧牲을 본뒤라 到底히 繼續할주업스므로 畢竟 昨年四月 非軍事的反英運動의 中止를 决議하고,合法的 擧法에 依하야 議員을 多數 選出하야 議政壇上에서 同協定을 反對否决하야 今日의 結果에 이르킨것이다.\n",
            "   三\n",
            " 英印協定은 累次 本欄에서 報道批評한바와가티(一)英領印度를 十一州로分하야 이에 王侯國요 加하야 聯邦組織으로하고(二)總督은 國務大長의 輔弼에 依하야 行政을 行하는 方針으로 總督의 權限을 縮少하야 責任大臣의 管轄에 移하고(三)議會에 對해서도 王侯國을除하고는 모다 選擧制를 採用하야 現行印度統治法보다는 多少 進步的인것이 事實이다.그러나(一)本國의 重大利益을 確保하기위하야는 總督에게 國防外交及 宗敎에 關한 權限을 留保하고,(二)(1)印度의 安寧維持,(2)聯邦의 財政的安定及 信用의保障,(3)少數民族의 利益保障,(4)官吏의 利益保障,(5)通商上의 差別待遇防止等에 對하야 特別責任事項이라하야 大臣의 輔弼을 要치안는 同時에(三)立憲制度를 破壞하랴는 行動에對하야 非常手段을 附與한것은印度人에게 모쪼록 自由의 範圍를 縮少하도록한것이다.그뿐아니라 聯邦議會를 二院制로하야下院議員數 三百七十五名中 英領印度選出二百五十(有權者는人口의 約二%乃至 三%)王侯國에서 王侯의 指命하는耆 百二十五로하고 上院議員 二百六十名中 英領印度州議員選出 百五十王侯指命者□ 總督指命 十으로하얏스며 英領印度選出 下院議員에對하야는 各州마다 一般代表外에 特定한 小數民族,婦人,一定한 宗敎 又는 職業의 代表라하야 一定數의 議席을 配定한것은 結局 進步한 印度敎徒로하야금 親英的 王侯及 反動派의 牽制를밧도록한것이다.\n",
            "四\n",
            " 이와가티 印度國民會議派는는合法手段에 依하야 新生하랴는英印協定을 破棄하고 本來의主張인 愛□型의 自治領의 地位를 要求하거니와 果然 印度는이것으로써 即時 愛蘭型의 自治領의 地位를 占할수잇슬가.印度는 愛蘭과가티 英國의 政治的 植民地가아니라 經濟的 植民地며—濠洲나 南阿와가티 英本國人이 건너가 設立한 植民地가 아니랴 앵귤로싹손外의아리아族으로 된 植民地다.맥도날드首相이 머리를 알아 加奈陀에 攝養을간일이 잇섯지만,即時印度에 愛蘭型의 自治를許與할意思가 업는것은 거이英國의 旣定的 事實이니 英印間의抗爭은 今後 뜨한참 繼續될것이다.\n",
            "\n",
            "[([Token(form='印度國民會議', tag='SH', start=0, len=6), Token(form='派', tag='SH', start=7, len=1), Token(form='의', tag='JKG', start=8, len=1), Token(form='議會鬪爭', tag='SH', start=9, len=4), Token(form='英印協定廢棄可决', tag='SH', start=14, len=8), Token(form='一', tag='SH', start=23, len=1), Token(form='三十日', tag='SH', start=26, len=3), Token(form='뉴델리', tag='NNP', start=30, len=3), Token(form='發', tag='SH', start=33, len=1), Token(form='電報', tag='SH', start=35, len=2), Token(form='에', tag='JKB', start=37, len=1), Token(form='依', tag='SH', start=39, len=1), Token(form='하', tag='XSV', start=40, len=1), Token(form='면', tag='EC', start=41, len=1), Token(form='印度立法議會', tag='SH', start=43, len=6), Token(form='는', tag='JX', start=49, len=1), Token(form='曩者', tag='SH', start=51, len=2), Token(form='英印間', tag='SH', start=54, len=3), Token(form='에', tag='JKB', start=57, len=1), Token(form='成立', tag='SH', start=59, len=2), Token(form='되', tag='XSV', start=61, len=1), Token(form='ᆫ', tag='ETM', start=61, len=1), Token(form='英印協定', tag='SH', start=63, len=4), Token(form='을', tag='JKO', start=67, len=1), Token(form='六十六票', tag='SH', start=69, len=4), Token(form='對五十九票', tag='SH', start=74, len=5), Token(form='로', tag='JKB', start=79, len=1), Token(form='廢棄', tag='SH', start=81, len=2), Token(form='하', tag='XSV', start=83, len=1), Token(form='기', tag='ETN', start=84, len=1), Token(form='로', tag='JKB', start=85, len=1), Token(form='决定하얏다', tag='NNG', start=87, len=5), Token(form='하', tag='XSV', start=92, len=1), Token(form='ᆫ다', tag='EF', start=92, len=2), Token(form='.', tag='SF', start=94, len=1), Token(form='印度', tag='SH', start=95, len=2), Token(form='에', tag='JKB', start=97, len=1), Token(form='適用', tag='SH', start=98, len=2), Token(form='하', tag='XSV', start=100, len=1), Token(form='는', tag='ETM', start=101, len=1), Token(form='法律', tag='SH', start=103, len=2), Token(form='은', tag='JX', start=105, len=1), Token(form='印度立法議會', tag='SH', start=107, len=6), Token(form='의', tag='JKG', start=113, len=1), Token(form='議决', tag='SH', start=115, len=2), Token(form='을', tag='JKO', start=117, len=1), Token(form='要', tag='SH', start=119, len=1), Token(form='하', tag='XSV', start=120, len=1), Token(form='고', tag='EC', start=121, len=1), Token(form='英本國', tag='SH', start=123, len=3), Token(form='과', tag='JC', start=126, len=1), Token(form='關係', tag='SH', start=128, len=2), Token(form='되', tag='XSV', start=130, len=1), Token(form='는', tag='ETM', start=131, len=1), Token(form='法律', tag='SH', start=133, len=2), Token(form='은', tag='JX', start=135, len=1), Token(form='英本國議會', tag='SH', start=137, len=5), Token(form='의', tag='JKG', start=142, len=1), Token(form='議决', tag='SH', start=143, len=2), Token(form='을', tag='NNG', start=145, len=1), Token(form='經', tag='SH', start=146, len=1), Token(form='하', tag='XSV', start=147, len=1), Token(form='어서', tag='EC', start=147, len=2), Token(form='비로서', tag='MAG', start=150, len=3), Token(form='成立', tag='SH', start=154, len=2), Token(form='되', tag='XSV', start=156, len=1), Token(form='는', tag='ETM', start=157, len=1), Token(form='것', tag='NNB', start=158, len=1), Token(form='이', tag='VCP', start=159, len=1), Token(form='ᆫ데', tag='EC', start=159, len=2), Token(form='英印協定', tag='SH', start=161, len=4), Token(form='이', tag='JKS', start=165, len=1), Token(form='먼저', tag='MAG', start=167, len=2), Token(form='印度立法議會', tag='SH', start=170, len=6), Token(form='에서', tag='JKB', start=176, len=2), Token(form='廢棄', tag='SH', start=179, len=2), Token(form='키로', tag='NNG', start=181, len=2), Token(form='可决', tag='SH', start=184, len=2), Token(form='되엇스니', tag='NNG', start=186, len=4), Token(form='設使同協定', tag='SH', start=191, len=5), Token(form='이', tag='MM', start=196, len=1), Token(form='英本國議會', tag='SH', start=198, len=5), Token(form='를', tag='JKO', start=203, len=1), Token(form='通過', tag='SH', start=205, len=2), Token(form='하', tag='XSV', start=207, len=1), Token(form='ᆫ다', tag='EC', start=207, len=2), Token(form='하', tag='VV', start=209, len=1), Token(form='드래도', tag='EC', start=210, len=3), Token(form='印度', tag='SH', start=214, len=2), Token(form='에', tag='JKB', start=216, len=1), Token(form='實施', tag='SH', start=218, len=2), Token(form='되', tag='XSV', start=220, len=1), Token(form='지', tag='EC', start=221, len=1), Token(form='못하', tag='VX', start=222, len=2), Token(form='고', tag='EC', start=224, len=1), Token(form='말', tag='VX', start=225, len=1), Token(form='ᆫ다', tag='EF', start=225, len=2), Token(form='.', tag='SF', start=227, len=1), Token(form='그러므로', tag='MAJ', start=228, len=4), Token(form='一九三', tag='SH', start=233, len=3), Token(form='〇', tag='SW', start=236, len=1), Token(form='年', tag='SH', start=237, len=1), Token(form='九月', tag='SH', start=239, len=2), Token(form='英印第一圓卓會議以來荏苒', tag='SH', start=242, len=12), Token(form='五個年餘', tag='SH', start=255, len=4), Token(form='를', tag='JKO', start=259, len=1), Token(form='要', tag='SH', start=261, len=1), Token(form='하', tag='XSV', start=262, len=1), Token(form='야', tag='EC', start=263, len=1), Token(form='成立', tag='SH', start=264, len=2), Token(form='하', tag='XSA', start=266, len=1), Token(form='ᆫ', tag='ETM', start=266, len=1), Token(form='妥協的英印協定', tag='SH', start=267, len=7), Token(form='은', tag='JX', start=274, len=1), Token(form='그만', tag='MAG', start=276, len=2), Token(form='水泡', tag='SH', start=279, len=2), Token(form='로', tag='JKB', start=281, len=1), Token(form='歸', tag='SH', start=282, len=1), Token(form='하', tag='XSV', start=283, len=1), Token(form='고', tag='EC', start=284, len=1), Token(form='英印間', tag='SH', start=286, len=3), Token(form='에', tag='JKB', start=289, len=1), Token(form='는', tag='JX', start=290, len=1), Token(form='依然', tag='SH', start=291, len=2), Token(form='軋轢狀態', tag='SH', start=294, len=4), Token(form='가', tag='JKS', start=298, len=1), Token(form='繼續', tag='SH', start=300, len=2), Token(form='하', tag='XSV', start=302, len=1), Token(form='게', tag='EC', start=303, len=1), Token(form='되', tag='VV', start=304, len=1), Token(form='는', tag='ETM', start=305, len=1), Token(form='셈', tag='NNB', start=306, len=1), Token(form='이', tag='VCP', start=307, len=1), Token(form='다', tag='EF', start=308, len=1), Token(form='.', tag='SF', start=309, len=1), Token(form='二', tag='SH', start=311, len=1), Token(form='印度', tag='SH', start=314, len=2), Token(form='立法議會', tag='SH', start=317, len=4), Token(form='가', tag='JKS', start=321, len=1), Token(form='英印協定', tag='SH', start=323, len=4), Token(form='을', tag='JKO', start=327, len=1), Token(form='廢棄', tag='SH', start=328, len=2), Token(form='하', tag='XSV', start=330, len=1), Token(form='기', tag='ETN', start=331, len=1), Token(form='로', tag='JKB', start=332, len=1), Token(form='可决', tag='SH', start=334, len=2), Token(form='하게되', tag='NNG', start=336, len=3), Token(form='裡面', tag='SH', start=340, len=2), Token(form='에', tag='JKB', start=342, len=1), Token(form='는', tag='JX', start=343, len=1), Token(form='印度國民會議派', tag='SH', start=345, len=7), Token(form='의', tag='JKG', start=352, len=1), Token(form='活動', tag='SH', start=354, len=2), Token(form='이', tag='JKS', start=356, len=1), Token(form='잇', tag='VV-I', start=357, len=1), Token(form='스', tag='VV', start=358, len=1), Token(form='ᆷ', tag='ETN', start=358, len=1), Token(form='을', tag='JKO', start=359, len=1), Token(form='이', tag='MM', start=361, len=1), Token(form='저서', tag='NNG', start=362, len=2), Token(form='는', tag='JX', start=364, len=1), Token(form='안', tag='MAG', start=366, len=1), Token(form='되', tag='XSV', start=367, len=1), Token(form='ᆫ다', tag='EC', start=367, len=2), Token(form='印度國民會議派', tag='SH', start=370, len=7), Token(form='는', tag='JX', start=377, len=1), Token(form='一九三', tag='SH', start=379, len=3), Token(form='〇', tag='SW', start=382, len=1), Token(form='年', tag='SH', start=383, len=1), Token(form='反英獨立', tag='SH', start=385, len=4), Token(form='을', tag='JKO', start=389, len=1), Token(form='可决', tag='SH', start=391, len=2), Token(form='하', tag='XSV', start=393, len=1), Token(form='ᆫ', tag='ETM', start=393, len=1), Token(form='以來', tag='SH', start=394, len=2), Token(form='或', tag='SH', start=397, len=1), Token(form='은', tag='JX', start=398, len=1), Token(form='反英示威行脚', tag='SH', start=400, len=6), Token(form='으로', tag='JKB', start=406, len=2), Token(form='或', tag='SH', start=409, len=1), Token(form='은', tag='JX', start=410, len=1), Token(form='鹽倉庫襲擊', tag='SH', start=412, len=5), Token(form='으로', tag='JKB', start=417, len=2), Token(form='或', tag='SH', start=420, len=1), Token(form='은', tag='JX', start=421, len=1), Token(form='森林法破棄', tag='SH', start=423, len=5), Token(form='로', tag='JKB', start=428, len=1), Token(form='或', tag='SH', start=430, len=1), Token(form='은', tag='JX', start=431, len=1), Token(form='納稅拒絶己', tag='SH', start=432, len=5), Token(form='或', tag='SH', start=438, len=1), Token(form='은', tag='JX', start=439, len=1), Token(form='撤市', tag='SH', start=441, len=2), Token(form='로', tag='JKB', start=443, len=1), Token(form='或', tag='SH', start=445, len=1), Token(form='은', tag='JX', start=446, len=1), Token(form='餓死同盟', tag='SH', start=447, len=4), Token(form='으로', tag='JKB', start=451, len=2), Token(form='反英運動', tag='SH', start=454, len=4), Token(form='을', tag='JKO', start=458, len=1), Token(form='繼續', tag='SH', start=460, len=2), Token(form='하얏스', tag='NNG', start=462, len=3), Token(form='이', tag='VCP', start=465, len=0), Token(form='며', tag='EC', start=465, len=1), Token(form='때로', tag='MAG', start=467, len=2), Token(form='는', tag='JX', start=469, len=1), Token(form='英印圓卓會議', tag='SH', start=471, len=6), Token(form='에', tag='JKB', start=477, len=1), Token(form='參與', tag='SH', start=479, len=2), Token(form='하', tag='XSV', start=481, len=1), Token(form='므로써', tag='EC', start=482, len=3), Token(form='或', tag='SH', start=486, len=1), Token(form='은', tag='JX', start=487, len=1), Token(form='印回兩敎徒間', tag='SH', start=489, len=6), Token(form='의', tag='JKG', start=495, len=1), Token(form='選擧區', tag='SH', start=497, len=3), Token(form='에', tag='JKB', start=500, len=1), Token(form='對', tag='SH', start=502, len=1), Token(form='하', tag='XSV', start=503, len=1), Token(form='ᆫ', tag='ETM', start=503, len=1), Token(form='協定', tag='SH', start=504, len=2), Token(form='을', tag='JKO', start=506, len=1), Token(form='英本國', tag='SH', start=508, len=3), Token(form='에', tag='JKB', start=511, len=1), Token(form='電請', tag='SH', start=513, len=2), Token(form='하', tag='XSV', start=515, len=1), Token(form='므로써', tag='EC', start=516, len=3), Token(form='英國', tag='SH', start=520, len=2), Token(form='에', tag='JKB', start=522, len=1), Token(form='妥協', tag='SH', start=524, len=2), Token(form='하', tag='XSV', start=526, len=1), Token(form='기', tag='ETN', start=527, len=1), Token(form='도', tag='JX', start=528, len=1), Token(form='하', tag='VX', start=529, len=1), Token(form='얏', tag='NNG', start=530, len=1), Token(form='이', tag='VCP', start=531, len=0), Token(form='다', tag='EF', start=531, len=1), Token(form='.', tag='SF', start=532, len=1), Token(form='그러나', tag='MAJ', start=533, len=3), Token(form='要點', tag='SH', start=537, len=2), Token(form='은', tag='JX', start=539, len=1), Token(form='現行', tag='SH', start=541, len=2), Token(form='印度統治法', tag='SH', start=544, len=5), Token(form='이', tag='JKS', start=549, len=1), Token(form='一九二九年末日', tag='SH', start=550, len=7), Token(form='로', tag='JKB', start=557, len=1), Token(form='滿期', tag='SH', start=559, len=2), Token(form='가', tag='JKC', start=561, len=1), Token(form='되', tag='VV', start=563, len=1), Token(form='므로', tag='EC', start=564, len=2), Token(form='그', tag='MM', start=567, len=1), Token(form='뒤', tag='NNG', start=568, len=1), Token(form='에', tag='JKB', start=569, len=1), Token(form='올', tag='NNP', start=571, len=1), Token(form='印度新統治法', tag='SH', start=573, len=6), Token(form='이', tag='JKS', start=579, len=1), Token(form='印度人', tag='SH', start=580, len=3), Token(form='의', tag='JKG', start=583, len=1), Token(form='要呈', tag='SH', start=585, len=2), Token(form='여', tag='JKV', start=587, len=1), Token(form='얼마쯤', tag='NNG', start=589, len=3), Token(form='맛', tag='NNG', start=593, len=1), Token(form='하', tag='XSA', start=594, len=0), Token(form='게', tag='EC', start=594, len=1), Token(form='하', tag='VX', start=595, len=1), Token(form='어', tag='EC', start=595, len=1), Token(form='주', tag='VX', start=596, len=1), Token(form='는가', tag='EC', start=597, len=2), Token(form='를', tag='JKO', start=599, len=1), Token(form='監視', tag='SH', start=601, len=2), Token(form='하', tag='XSV', start=603, len=1), Token(form='는', tag='ETM', start=604, len=1), Token(form='데', tag='NNB', start=605, len=1), Token(form='不過', tag='SH', start=607, len=2), Token(form='하얏스나', tag='NNG', start=609, len=4), Token(form='英印間', tag='SH', start=614, len=3), Token(form='에', tag='JKB', start=617, len=1), Token(form='成立', tag='SH', start=618, len=2), Token(form='하', tag='XSV', start=620, len=1), Token(form='ᆫ', tag='ETM', start=620, len=1), Token(form='英印協定', tag='SH', start=622, len=4), Token(form='은', tag='JX', start=626, len=1), Token(form='印度國民會議派', tag='SH', start=628, len=7), Token(form='가', tag='JKS', start=635, len=1), Token(form='要求', tag='SH', start=637, len=2), Token(form='하', tag='XSV', start=639, len=1), Token(form='든', tag='EC', start=640, len=1), Token(form='愛', tag='SH', start=642, len=1), Token(form='□', tag='SW', start=643, len=1), Token(form='과', tag='NNG', start=644, len=1), Token(form='가', tag='JKS', start=645, len=1), Token(form='트', tag='VV', start=646, len=1), Token(form='ᆫ', tag='ETM', start=646, len=1), Token(form='自治領', tag='SH', start=648, len=3), Token(form='의', tag='JKG', start=651, len=1), Token(form='地位', tag='SH', start=653, len=2), Token(form='와', tag='JKB', start=655, len=1), Token(form='는', tag='JX', start=656, len=1), Token(form='相距', tag='SH', start=658, len=2), Token(form='가', tag='JKS', start=660, len=1), Token(form='멀', tag='VA', start=662, len=1), Token(form='므로', tag='EC', start=663, len=2), Token(form='이', tag='NP', start=666, len=1), Token(form='에', tag='JKB', start=667, len=1), Token(form='反對', tag='SH', start=669, len=2), Token(form='하얏스나', tag='NNG', start=671, len=4), Token(form='非合法的', tag='SH', start=676, len=4), Token(form='行動', tag='SH', start=681, len=2), Token(form='으로', tag='JKB', start=683, len=2), Token(form='는', tag='JX', start=685, len=1), Token(form='人命', tag='SH', start=687, len=2), Token(form='으로', tag='JKB', start=689, len=2), Token(form='四萬餘', tag='SH', start=692, len=3), Token(form=',', tag='SP', start=695, len=1), Token(form='財產上', tag='SH', start=696, len=3), Token(form='으로', tag='JKB', start=699, len=2), Token(form='累億', tag='SH', start=702, len=2), Token(form='의', tag='JKG', start=704, len=1), Token(form='犧牲', tag='SH', start=706, len=2), Token(form='을', tag='JKO', start=708, len=1), Token(form='보', tag='VV', start=710, len=1), Token(form='ᆫ', tag='ETM', start=710, len=1), Token(form='뒤', tag='NNG', start=711, len=1), Token(form='이', tag='VCP', start=712, len=0), Token(form='라', tag='EC', start=712, len=1), Token(form='到底', tag='SH', start=714, len=2), Token(form='히', tag='NNG', start=716, len=1), Token(form='繼續', tag='SH', start=718, len=2), Token(form='할주업스므로', tag='NNG', start=720, len=6), Token(form='畢竟', tag='SH', start=727, len=2), Token(form='昨年四月', tag='SH', start=730, len=4), Token(form='非軍事的反英運動', tag='SH', start=735, len=8), Token(form='의', tag='JKG', start=743, len=1), Token(form='中止', tag='SH', start=745, len=2), Token(form='를', tag='JKO', start=747, len=1), Token(form='决議', tag='SH', start=749, len=2), Token(form='하', tag='XSV', start=751, len=1), Token(form='고', tag='EC', start=752, len=1), Token(form=',', tag='SP', start=753, len=1), Token(form='合法的', tag='SH', start=754, len=3), Token(form='擧法', tag='SH', start=758, len=2), Token(form='에', tag='JKB', start=760, len=1), Token(form='依', tag='SH', start=762, len=1), Token(form='하', tag='XSV', start=763, len=1), Token(form='야', tag='EC', start=764, len=1), Token(form='議員', tag='SH', start=766, len=2), Token(form='을', tag='JKO', start=768, len=1), Token(form='多數', tag='SH', start=770, len=2), Token(form='選出', tag='SH', start=773, len=2), Token(form='하', tag='XSV', start=775, len=1), Token(form='야', tag='EC', start=776, len=1), Token(form='議政壇上', tag='SH', start=778, len=4), Token(form='에서', tag='JKB', start=782, len=2), Token(form='同協定', tag='SH', start=785, len=3), Token(form='을', tag='JKO', start=788, len=1), Token(form='反對否决', tag='SH', start=790, len=4), Token(form='하', tag='XSV', start=794, len=1), Token(form='야', tag='EC', start=795, len=1), Token(form='今日', tag='SH', start=797, len=2), Token(form='의', tag='JKG', start=799, len=1), Token(form='結果', tag='SH', start=801, len=2), Token(form='에', tag='JKB', start=803, len=1), Token(form='이르', tag='VV-I', start=805, len=2), Token(form='키', tag='VV', start=807, len=1), Token(form='ᆫ', tag='ETM', start=807, len=1), Token(form='것', tag='NNB', start=808, len=1), Token(form='이', tag='VCP', start=809, len=1), Token(form='다', tag='EF', start=810, len=1), Token(form='.', tag='SF', start=811, len=1), Token(form='三', tag='SH', start=816, len=1), Token(form='英印協定', tag='SH', start=819, len=4), Token(form='은', tag='JX', start=823, len=1), Token(form='累次', tag='SH', start=825, len=2), Token(form='本欄', tag='SH', start=828, len=2), Token(form='에서', tag='JKB', start=830, len=2), Token(form='報道批評', tag='SH', start=833, len=4), Token(form='하', tag='XSV', start=837, len=1), Token(form='ᆫ', tag='ETM', start=837, len=1), Token(form='바', tag='NNB', start=838, len=1), Token(form='와', tag='JKB', start=839, len=1), Token(form='가', tag='JKS', start=840, len=1), Token(form='티', tag='NNG', start=841, len=1), Token(form='(', tag='SSO', start=842, len=1), Token(form='一', tag='SH', start=843, len=1), Token(form=')', tag='SSC', start=844, len=1), Token(form='英領印度', tag='SH', start=845, len=4), Token(form='를', tag='JKO', start=849, len=1), Token(form='十一州', tag='SH', start=851, len=3), Token(form='로', tag='JKB', start=854, len=1), Token(form='分', tag='SH', start=855, len=1), Token(form='하', tag='XSV', start=856, len=1), Token(form='야', tag='EC', start=857, len=1), Token(form='이', tag='NP', start=859, len=1), Token(form='에', tag='JKB', start=860, len=1), Token(form='王侯國', tag='SH', start=862, len=3), Token(form='이', tag='VCP', start=865, len=0), Token(form='요', tag='EC', start=865, len=1), Token(form='加', tag='SH', start=867, len=1), Token(form='하', tag='XSV', start=868, len=1), Token(form='야', tag='EC', start=869, len=1), Token(form='聯邦組織', tag='SH', start=871, len=4), Token(form='으로', tag='JKB', start=875, len=2), Token(form='하', tag='VV', start=877, len=1), Token(form='고', tag='EC', start=878, len=1), Token(form='(', tag='SSO', start=879, len=1), Token(form='二', tag='SH', start=880, len=1), Token(form=')', tag='SSC', start=881, len=1), Token(form='總督', tag='SH', start=882, len=2), Token(form='은', tag='JX', start=884, len=1), Token(form='國務大長', tag='SH', start=886, len=4), Token(form='의', tag='JKG', start=890, len=1), Token(form='輔弼', tag='SH', start=892, len=2), Token(form='에', tag='JKB', start=894, len=1), Token(form='依', tag='SH', start=896, len=1), Token(form='하', tag='XSV', start=897, len=1), Token(form='야', tag='EC', start=898, len=1), Token(form='行政', tag='SH', start=900, len=2), Token(form='을', tag='JKO', start=902, len=1), Token(form='行', tag='SH', start=904, len=1), Token(form='하', tag='XSV', start=905, len=1), Token(form='는', tag='ETM', start=906, len=1), Token(form='方針', tag='SH', start=908, len=2), Token(form='으로', tag='JKB', start=910, len=2), Token(form='總督', tag='SH', start=913, len=2), Token(form='의', tag='JKG', start=915, len=1), Token(form='權限', tag='SH', start=917, len=2), Token(form='을', tag='JKO', start=919, len=1), Token(form='縮少', tag='SH', start=921, len=2), Token(form='하', tag='XSV', start=923, len=1), Token(form='야', tag='EC', start=924, len=1), Token(form='責任大臣', tag='SH', start=926, len=4), Token(form='의', tag='JKG', start=930, len=1), Token(form='管轄', tag='SH', start=932, len=2), Token(form='에', tag='JKB', start=934, len=1), Token(form='移', tag='SH', start=936, len=1), Token(form='하', tag='XSV', start=937, len=1), Token(form='고', tag='EC', start=938, len=1), Token(form='(', tag='SSO', start=939, len=1), Token(form='三', tag='SH', start=940, len=1), Token(form=')', tag='SSC', start=941, len=1), Token(form='議會', tag='SH', start=942, len=2), Token(form='에', tag='JKB', start=944, len=1), Token(form='對', tag='SH', start=946, len=1), Token(form='하', tag='XSV', start=947, len=1), Token(form='어서', tag='EC', start=947, len=2), Token(form='도', tag='JX', start=949, len=1), Token(form='王侯國', tag='SH', start=951, len=3), Token(form='을', tag='JKO', start=954, len=1), Token(form='除', tag='SH', start=955, len=1), Token(form='하', tag='XSV', start=956, len=1), Token(form='고', tag='EC', start=957, len=1), Token(form='는', tag='JX', start=958, len=1), Token(form='모다', tag='MAG', start=960, len=2), Token(form='選擧制', tag='SH', start=963, len=3), Token(form='를', tag='JKO', start=966, len=1), Token(form='採用', tag='SH', start=968, len=2), Token(form='하', tag='XSV', start=970, len=1), Token(form='야', tag='EC', start=971, len=1), Token(form='現行印度統治法', tag='SH', start=973, len=7), Token(form='보다', tag='JKB', start=980, len=2), Token(form='는', tag='JX', start=982, len=1), Token(form='多少', tag='SH', start=984, len=2), Token(form='進步的', tag='SH', start=987, len=3), Token(form='이', tag='VCP', start=990, len=1), Token(form='ᆫ', tag='ETM', start=990, len=1), Token(form='것', tag='NNB', start=991, len=1), Token(form='이', tag='JKS', start=992, len=1), Token(form='事實', tag='SH', start=994, len=2), Token(form='이', tag='VCP', start=996, len=1), Token(form='다', tag='EF', start=997, len=1), Token(form='.', tag='SF', start=998, len=1), Token(form='그러나', tag='MAJ', start=999, len=3), Token(form='(', tag='SSO', start=1002, len=1), Token(form='一', tag='SH', start=1003, len=1), Token(form=')', tag='SSC', start=1004, len=1), Token(form='本國', tag='SH', start=1005, len=2), Token(form='의', tag='JKG', start=1007, len=1), Token(form='重大利益', tag='SH', start=1009, len=4), Token(form='을', tag='JKO', start=1013, len=1), Token(form='確保', tag='SH', start=1015, len=2), Token(form='하', tag='XSV', start=1017, len=1), Token(form='기', tag='ETN', start=1018, len=1), Token(form='위', tag='NNG', start=1019, len=1), Token(form='하야', tag='NNG', start=1020, len=2), Token(form='는', tag='JX', start=1022, len=1), Token(form='總督', tag='SH', start=1024, len=2), Token(form='에게', tag='JKB', start=1026, len=2), Token(form='國防外交及', tag='SH', start=1029, len=5), Token(form='宗敎', tag='SH', start=1035, len=2), Token(form='에', tag='JKB', start=1037, len=1), Token(form='關', tag='SH', start=1039, len=1), Token(form='하', tag='XSV', start=1040, len=1), Token(form='ᆫ', tag='ETM', start=1040, len=1), Token(form='權限', tag='SH', start=1042, len=2), Token(form='을', tag='JKO', start=1044, len=1), Token(form='留保', tag='SH', start=1046, len=2), Token(form='하', tag='XSV', start=1048, len=1), Token(form='고', tag='EC', start=1049, len=1), Token(form=',', tag='SP', start=1050, len=1), Token(form='(', tag='SSO', start=1051, len=1), Token(form='二', tag='SH', start=1052, len=1), Token(form=')', tag='SSC', start=1053, len=1), Token(form='(', tag='SSO', start=1054, len=1), Token(form='1', tag='SN', start=1055, len=1), Token(form=')', tag='SSC', start=1056, len=1), Token(form='印度', tag='SH', start=1057, len=2), Token(form='의', tag='JKG', start=1059, len=1), Token(form='安寧維持', tag='SH', start=1061, len=4), Token(form=',', tag='SP', start=1065, len=1), Token(form='(', tag='SSO', start=1066, len=1), Token(form='2', tag='SN', start=1067, len=1), Token(form=')', tag='SSC', start=1068, len=1), Token(form='聯邦', tag='SH', start=1069, len=2), Token(form='의', tag='JKG', start=1071, len=1), Token(form='財政的安定及', tag='SH', start=1073, len=6), Token(form='信用', tag='SH', start=1080, len=2), Token(form='의', tag='JKG', start=1082, len=1), Token(form='保障', tag='SH', start=1083, len=2), Token(form=',', tag='SP', start=1085, len=1), Token(form='(', tag='SSO', start=1086, len=1), Token(form='3', tag='SN', start=1087, len=1), Token(form=')', tag='SSC', start=1088, len=1), Token(form='少數民族', tag='SH', start=1089, len=4), Token(form='의', tag='JKG', start=1093, len=1), Token(form='利益保障', tag='SH', start=1095, len=4), Token(form=',', tag='SP', start=1099, len=1), Token(form='(', tag='SSO', start=1100, len=1), Token(form='4', tag='SN', start=1101, len=1), Token(form=')', tag='SSC', start=1102, len=1), Token(form='官吏', tag='SH', start=1103, len=2), Token(form='의', tag='JKG', start=1105, len=1), Token(form='利益保障', tag='SH', start=1107, len=4), Token(form=',', tag='SP', start=1111, len=1), Token(form='(', tag='SSO', start=1112, len=1), Token(form='5', tag='SN', start=1113, len=1), Token(form=')', tag='SSC', start=1114, len=1), Token(form='通商上', tag='SH', start=1115, len=3), Token(form='의', tag='JKG', start=1118, len=1), Token(form='差別待遇防止等', tag='SH', start=1120, len=7), Token(form='에', tag='JKB', start=1127, len=1), Token(form='對', tag='SH', start=1129, len=1), Token(form='하', tag='XSV', start=1130, len=1), Token(form='야', tag='EC', start=1131, len=1), Token(form='特別責任事項', tag='SH', start=1133, len=6), Token(form='이', tag='VCP', start=1139, len=1), Token(form='라', tag='EC', start=1140, len=1), Token(form='하야', tag='NNG', start=1141, len=2), Token(form='大臣', tag='SH', start=1144, len=2), Token(form='의', tag='JKG', start=1146, len=1), Token(form='輔弼', tag='SH', start=1148, len=2), Token(form='을', tag='JKO', start=1150, len=1), Token(form='要', tag='SH', start=1152, len=1), Token(form='하', tag='XSV', start=1153, len=1), Token(form='지', tag='EC', start=1153, len=1), Token(form='안', tag='VV', start=1154, len=1), Token(form='는', tag='ETM', start=1155, len=1), Token(form='同時', tag='SH', start=1157, len=2), Token(form='에', tag='JKB', start=1159, len=1), Token(form='(', tag='SSO', start=1160, len=1), Token(form='三', tag='SH', start=1161, len=1), Token(form=')', tag='SSC', start=1162, len=1), Token(form='立憲制度', tag='SH', start=1163, len=4), Token(form='를', tag='JKO', start=1167, len=1), Token(form='破壞', tag='SH', start=1169, len=2), Token(form='하', tag='XSV', start=1171, len=1), Token(form='랴', tag='EC', start=1172, len=1), Token(form='는', tag='JX', start=1173, len=1), Token(form='行動', tag='SH', start=1175, len=2), Token(form='에', tag='JKB', start=1177, len=1), Token(form='對', tag='SH', start=1178, len=1), Token(form='하', tag='XSV', start=1179, len=1), Token(form='야', tag='EC', start=1180, len=1), Token(form='非常手段', tag='SH', start=1182, len=4), Token(form='을', tag='JKO', start=1186, len=1), Token(form='附與', tag='SH', start=1188, len=2), Token(form='하', tag='XSV', start=1190, len=1), Token(form='ᆫ', tag='ETM', start=1190, len=1), Token(form='것', tag='NNB', start=1191, len=1), Token(form='은', tag='JX', start=1192, len=1), Token(form='印度人', tag='SH', start=1193, len=3), Token(form='에게', tag='JKB', start=1196, len=2), Token(form='모쪼록', tag='MAG', start=1199, len=3), Token(form='自由', tag='SH', start=1203, len=2), Token(form='의', tag='JKG', start=1205, len=1), Token(form='範圍', tag='SH', start=1207, len=2), Token(form='를', tag='JKO', start=1209, len=1), Token(form='縮少', tag='SH', start=1211, len=2), Token(form='하', tag='XSV', start=1213, len=1), Token(form='도록', tag='EC', start=1214, len=2), Token(form='하', tag='VX', start=1216, len=1), Token(form='ᆫ', tag='ETM', start=1216, len=1), Token(form='것', tag='NNB', start=1217, len=1), Token(form='이', tag='VCP', start=1218, len=1), Token(form='다', tag='EF', start=1219, len=1), Token(form='.', tag='SF', start=1220, len=1), Token(form='그', tag='NP', start=1221, len=1), Token(form='뿐', tag='JX', start=1222, len=1), Token(form='아니', tag='VCN', start=1223, len=2), Token(form='라', tag='EC', start=1225, len=1), Token(form='聯邦議會', tag='SH', start=1227, len=4), Token(form='를', tag='JKO', start=1231, len=1), Token(form='二院制', tag='SH', start=1233, len=3), Token(form='로', tag='JKB', start=1236, len=1), Token(form='하야', tag='NNG', start=1237, len=2), Token(form='下院議員數', tag='SH', start=1239, len=5), Token(form='三百七十五名中', tag='SH', start=1245, len=7), Token(form='英領印度選出二百五十', tag='SH', start=1253, len=10), Token(form='(', tag='SSO', start=1263, len=1), Token(form='有權者', tag='SH', start=1264, len=3), Token(form='는', tag='JX', start=1267, len=1), Token(form='人口', tag='SH', start=1268, len=2), Token(form='의', tag='JKG', start=1270, len=1), Token(form='約二', tag='SH', start=1272, len=2), Token(form='%', tag='SW', start=1274, len=1), Token(form='乃至', tag='SH', start=1275, len=2), Token(form='三', tag='SH', start=1278, len=1), Token(form='%', tag='SW', start=1279, len=1), Token(form=')', tag='SSC', start=1280, len=1), Token(form='王侯國', tag='SH', start=1281, len=3), Token(form='에서', tag='JKB', start=1284, len=2), Token(form='王侯', tag='SH', start=1287, len=2), Token(form='의', tag='JKG', start=1289, len=1), Token(form='指命', tag='SH', start=1291, len=2), Token(form='하', tag='VV', start=1293, len=1), Token(form='는', tag='ETM', start=1294, len=1), Token(form='耆', tag='SH', start=1295, len=1), Token(form='百二十五', tag='SH', start=1297, len=4), Token(form='로', tag='JKB', start=1301, len=1), Token(form='하', tag='VV', start=1302, len=1), Token(form='고', tag='EC', start=1303, len=1), Token(form='上院議員', tag='SH', start=1305, len=4), Token(form='二百六十名中', tag='SH', start=1310, len=6), Token(form='英領印度州議員選出', tag='SH', start=1317, len=9), Token(form='百五十王侯指命者', tag='SH', start=1327, len=8), Token(form='□', tag='SW', start=1335, len=1), Token(form='總督指命', tag='SH', start=1337, len=4), Token(form='十', tag='SH', start=1342, len=1), Token(form='으로하얏스며', tag='NNG', start=1343, len=6), Token(form='英領印度選出', tag='SH', start=1350, len=6), Token(form='下院議員', tag='SH', start=1357, len=4), Token(form='에', tag='JKB', start=1361, len=1), Token(form='對', tag='SH', start=1362, len=1), Token(form='하', tag='XSV', start=1363, len=1), Token(form='야', tag='EC', start=1364, len=1), Token(form='는', tag='JX', start=1365, len=1), Token(form='各州', tag='SH', start=1367, len=2), Token(form='마다', tag='JX', start=1369, len=2), Token(form='一般代表外', tag='SH', start=1372, len=5), Token(form='에', tag='JKB', start=1377, len=1), Token(form='特定', tag='SH', start=1379, len=2), Token(form='하', tag='XSV', start=1381, len=1), Token(form='ᆫ', tag='ETM', start=1381, len=1), Token(form='小數民族', tag='SH', start=1383, len=4), Token(form=',', tag='SP', start=1387, len=1), Token(form='婦人', tag='SH', start=1388, len=2), Token(form=',', tag='SP', start=1390, len=1), Token(form='一定', tag='SH', start=1391, len=2), Token(form='하', tag='XSV', start=1393, len=1), Token(form='ᆫ', tag='ETM', start=1393, len=1), Token(form='宗敎', tag='SH', start=1395, len=2), Token(form='又', tag='SH', start=1398, len=1), Token(form='는', tag='JX', start=1399, len=1), Token(form='職業', tag='SH', start=1401, len=2), Token(form='의', tag='JKG', start=1403, len=1), Token(form='代表', tag='SH', start=1405, len=2), Token(form='이', tag='VCP', start=1407, len=0), Token(form='라', tag='EC', start=1407, len=1), Token(form='하야', tag='NNG', start=1408, len=2), Token(form='一定數', tag='SH', start=1411, len=3), Token(form='의', tag='JKG', start=1414, len=1), Token(form='議席', tag='SH', start=1416, len=2), Token(form='을', tag='JKO', start=1418, len=1), Token(form='配定', tag='SH', start=1420, len=2), Token(form='하', tag='XSV', start=1422, len=1), Token(form='ᆫ', tag='ETM', start=1422, len=1), Token(form='것', tag='NNB', start=1423, len=1), Token(form='은', tag='JX', start=1424, len=1), Token(form='結局', tag='SH', start=1426, len=2), Token(form='進步', tag='SH', start=1429, len=2), Token(form='하', tag='XSA', start=1431, len=1), Token(form='ᆫ', tag='ETM', start=1431, len=1), Token(form='印度敎徒', tag='SH', start=1433, len=4), Token(form='로', tag='JKB', start=1437, len=1), Token(form='하야', tag='NNG', start=1438, len=2), Token(form='금', tag='NNG', start=1440, len=1), Token(form='親英的', tag='SH', start=1442, len=3), Token(form='王侯及', tag='SH', start=1446, len=3), Token(form='反動派', tag='SH', start=1450, len=3), Token(form='의', tag='JKG', start=1453, len=1), Token(form='牽制', tag='SH', start=1455, len=2), Token(form='를', tag='JKO', start=1457, len=1), Token(form='밧', tag='NNG', start=1458, len=1), Token(form='하', tag='XSV', start=1459, len=0), Token(form='도록', tag='EC', start=1459, len=2), Token(form='하', tag='VX', start=1461, len=1), Token(form='ᆫ', tag='ETM', start=1461, len=1), Token(form='것', tag='NNB', start=1462, len=1), Token(form='이', tag='VCP', start=1463, len=1), Token(form='다', tag='EF', start=1464, len=1), Token(form='.', tag='SF', start=1465, len=1), Token(form='四', tag='SH', start=1467, len=1), Token(form='이와가티', tag='NNG', start=1470, len=4), Token(form='印度國民會議派', tag='SH', start=1475, len=7), Token(form='는', tag='JX', start=1482, len=1), Token(form='는', tag='ETM', start=1483, len=1), Token(form='合法手段', tag='SH', start=1484, len=4), Token(form='에', tag='JKB', start=1488, len=1), Token(form='依', tag='SH', start=1490, len=1), Token(form='하', tag='XSV', start=1491, len=1), Token(form='야', tag='EC', start=1492, len=1), Token(form='新生', tag='SH', start=1494, len=2), Token(form='하', tag='XSV', start=1496, len=1), Token(form='랴', tag='EC', start=1497, len=1), Token(form='는', tag='JX', start=1498, len=1), Token(form='英印協定', tag='SH', start=1499, len=4), Token(form='을', tag='JKO', start=1503, len=1), Token(form='破棄', tag='SH', start=1505, len=2), Token(form='하', tag='XSV', start=1507, len=1), Token(form='고', tag='EC', start=1508, len=1), Token(form='本來', tag='SH', start=1510, len=2), Token(form='의', tag='JKG', start=1512, len=1), Token(form='主張', tag='SH', start=1513, len=2), Token(form='이', tag='VCP', start=1515, len=1), Token(form='ᆫ', tag='ETM', start=1515, len=1), Token(form='愛', tag='SH', start=1517, len=1), Token(form='□', tag='SW', start=1518, len=1), Token(form='型', tag='SH', start=1519, len=1), Token(form='의', tag='JKG', start=1520, len=1), Token(form='自治領', tag='SH', start=1522, len=3), Token(form='의', tag='JKG', start=1525, len=1), Token(form='地位', tag='SH', start=1527, len=2), Token(form='를', tag='JKO', start=1529, len=1), Token(form='要求', tag='SH', start=1531, len=2), Token(form='하', tag='XSV', start=1533, len=1), Token(form='거니와', tag='EC', start=1534, len=3), Token(form='果然', tag='SH', start=1538, len=2), Token(form='印度', tag='SH', start=1541, len=2), Token(form='는', tag='JX', start=1543, len=1), Token(form='이', tag='MM', start=1544, len=1), Token(form='것', tag='NNB', start=1545, len=1), Token(form='으로써', tag='JKB', start=1546, len=3), Token(form='即時', tag='SH', start=1550, len=2), Token(form='愛蘭型', tag='SH', start=1553, len=3), Token(form='의', tag='JKG', start=1556, len=1), Token(form='自治領', tag='SH', start=1558, len=3), Token(form='의', tag='JKG', start=1561, len=1), Token(form='地位', tag='SH', start=1563, len=2), Token(form='를', tag='JKO', start=1565, len=1), Token(form='占', tag='SH', start=1567, len=1), Token(form='하', tag='XSV', start=1568, len=1), Token(form='ᆯ', tag='ETM', start=1568, len=1), Token(form='수', tag='NNB', start=1569, len=1), Token(form='잇', tag='VV-I', start=1570, len=1), Token(form='슬', tag='MAG', start=1571, len=1), Token(form='가', tag='VV', start=1572, len=1), Token(form='어', tag='EF', start=1572, len=1), Token(form='.', tag='SF', start=1573, len=1), Token(form='印度', tag='SH', start=1574, len=2), Token(form='는', tag='JX', start=1576, len=1), Token(form='愛蘭', tag='SH', start=1578, len=2), Token(form='과가티', tag='NNG', start=1580, len=3), Token(form='英國', tag='SH', start=1584, len=2), Token(form='의', tag='JKG', start=1586, len=1), Token(form='政治的', tag='SH', start=1588, len=3), Token(form='植民地', tag='SH', start=1592, len=3), Token(form='가', tag='JKC', start=1595, len=1), Token(form='아니', tag='VCN', start=1596, len=2), Token(form='라', tag='EC', start=1598, len=1), Token(form='經濟的', tag='SH', start=1600, len=3), Token(form='植民地', tag='SH', start=1604, len=3), Token(form='이', tag='VCP', start=1607, len=0), Token(form='며', tag='EC', start=1607, len=1), Token(form='—', tag='SW', start=1608, len=1), Token(form='濠洲', tag='SH', start=1609, len=2), Token(form='나', tag='JC', start=1611, len=1), Token(form='南阿', tag='SH', start=1613, len=2), Token(form='와가티', tag='NNG', start=1615, len=3), Token(form='英本國人', tag='SH', start=1619, len=4), Token(form='이', tag='JKS', start=1623, len=1), Token(form='건너가', tag='VV', start=1625, len=3), Token(form='어', tag='EC', start=1627, len=1), Token(form='設立', tag='SH', start=1629, len=2), Token(form='하', tag='XSA', start=1631, len=1), Token(form='ᆫ', tag='ETM', start=1631, len=1), Token(form='植民地', tag='SH', start=1633, len=3), Token(form='가', tag='JKC', start=1636, len=1), Token(form='아니', tag='VCN', start=1638, len=2), Token(form='랴', tag='EC', start=1640, len=1), Token(form='앵귤로싹손', tag='NNG', start=1642, len=5), Token(form='外', tag='SH', start=1647, len=1), Token(form='의', tag='JKG', start=1648, len=1), Token(form='아리아', tag='NNG', start=1649, len=3), Token(form='族', tag='SH', start=1652, len=1), Token(form='으로', tag='JKB', start=1653, len=2), Token(form='되', tag='VV', start=1656, len=1), Token(form='ᆫ', tag='ETM', start=1656, len=1), Token(form='植民地', tag='SH', start=1658, len=3), Token(form='이', tag='VCP', start=1661, len=0), Token(form='다', tag='EF', start=1661, len=1), Token(form='.', tag='SF', start=1662, len=1), Token(form='맥도날드', tag='NNP', start=1663, len=4), Token(form='首相', tag='SH', start=1667, len=2), Token(form='이', tag='JKS', start=1669, len=1), Token(form='머리', tag='NNG', start=1671, len=2), Token(form='를', tag='JKO', start=1673, len=1), Token(form='알', tag='VV', start=1675, len=1), Token(form='어', tag='EC', start=1676, len=1), Token(form='加奈陀', tag='SH', start=1678, len=3), Token(form='에', tag='JKB', start=1681, len=1), Token(form='攝養', tag='SH', start=1683, len=2), Token(form='을', tag='JKO', start=1685, len=1), Token(form='가', tag='VV', start=1686, len=1), Token(form='ᆫ', tag='ETM', start=1686, len=1), Token(form='일', tag='NNG', start=1687, len=1), Token(form='이', tag='JKS', start=1688, len=1), Token(form='잇섯', tag='NNG', start=1690, len=2), Token(form='이', tag='VCP', start=1692, len=0), Token(form='지만', tag='EC', start=1692, len=2), Token(form=',', tag='SP', start=1694, len=1), Token(form='即時印度', tag='SH', start=1695, len=4), Token(form='에', tag='JKB', start=1699, len=1), Token(form='愛蘭型', tag='SH', start=1701, len=3), Token(form='의', tag='JKG', start=1704, len=1), Token(form='自治', tag='SH', start=1706, len=2), Token(form='를', tag='JKO', start=1708, len=1), Token(form='許與', tag='SH', start=1709, len=2), Token(form='하', tag='XSV', start=1711, len=1), Token(form='ᆯ', tag='ETM', start=1711, len=1), Token(form='意思', tag='SH', start=1712, len=2), Token(form='가', tag='JKS', start=1714, len=1), Token(form='업', tag='VV-R', start=1716, len=1), Token(form='는', tag='ETM', start=1717, len=1), Token(form='것', tag='NNB', start=1718, len=1), Token(form='은', tag='JX', start=1719, len=1), Token(form='거', tag='MM', start=1721, len=1), Token(form='이', tag='MM', start=1722, len=1), Token(form='英國', tag='SH', start=1723, len=2), Token(form='의', tag='JKG', start=1725, len=1), Token(form='旣定的', tag='SH', start=1727, len=3), Token(form='事實', tag='SH', start=1731, len=2), Token(form='이', tag='VCP', start=1733, len=1), Token(form='니', tag='EC', start=1734, len=1), Token(form='英印間', tag='SH', start=1736, len=3), Token(form='의', tag='JKG', start=1739, len=1), Token(form='抗爭', tag='SH', start=1740, len=2), Token(form='은', tag='JX', start=1742, len=1), Token(form='今後', tag='SH', start=1744, len=2), Token(form='뜨한참', tag='NNG', start=1747, len=3), Token(form='繼續', tag='SH', start=1751, len=2), Token(form='되', tag='XSV', start=1753, len=1), Token(form='ᆯ', tag='ETM', start=1753, len=1), Token(form='것', tag='NNB', start=1754, len=1), Token(form='이', tag='VCP', start=1755, len=1), Token(form='다', tag='EF', start=1756, len=1), Token(form='.', tag='SF', start=1757, len=1)], -3986.884765625)]\n"
          ]
        }
      ],
      "source": [
        "# 국한문혼용체에 현대 한국어 형태소 분석기(kiwi 기본버전)를 그대로 쓴다면?\n",
        "print(df['text'][0])\n",
        "print(kiwi.analyze(df['text'][0]))"
      ]
    },
    {
      "cell_type": "markdown",
      "metadata": {
        "id": "n3MamwhJilVM"
      },
      "source": [
        "### 서브워드 학습"
      ]
    },
    {
      "cell_type": "code",
      "execution_count": 7,
      "metadata": {
        "id": "cKEWkhlRif06"
      },
      "outputs": [],
      "source": [
        "# https://bab2min.github.io/kiwipiepy/v0.15.2/kr/sw_tokenizer.html#kiwipiepy.sw_tokenizer.SwTokenizerConfig\n",
        "config = SwTokenizerConfig(split_chinese=False) # split_chinese 제외하고 모두 기본 옵션 사용"
      ]
    },
    {
      "cell_type": "code",
      "execution_count": 12,
      "metadata": {
        "colab": {
          "base_uri": "https://localhost:8080/",
          "height": 210
        },
        "id": "IPL696_3i7xD",
        "outputId": "38665432-b0e3-4deb-f5e1-5f943d22a655"
      },
      "outputs": [
        {
          "data": {
            "application/vnd.google.colaboratory.intrinsic+json": {
              "type": "string"
            },
            "text/plain": [
              "'印度國民會議\\n派의議會鬪爭\\n英印協定廢棄可决\\n一\\n 三十日 뉴델리發 電報에 依하면 印度立法議會는 曩者 英印間에 成立된 英印協定을 六十六票 對五十九票로 廢棄하기로 决定하얏다한다.印度에適用하는 法律은 印度立法議會의 議决을 要하고 英本國과 關係되는 法律은 英本國議會의議决을經해서 비로서 成立되는것인데英印協定이 먼저 印度立法議會에서 廢棄키로 可决되엇스니 設使同協定이 英本國議會를 通過한다하드래도 印度에 實施되지못하고만다.그러므로 一九三〇年 九月 英印第一圓卓會議以來荏苒 五個年餘를 要하야成立한妥協的英印協定은 그만 水泡로歸하고 英印間에는依然 軋轢狀態가 繼續하게되는셈이다.\\n二\\n 印度 立法議會가 英印協定을廢棄하기로 可决하게되 裡面에는 印度國民會議派의 活動이잇슴을 이저서는 안된다 印度國民會議派는 一九三〇年 反英獨立을 可决한以來 或은 反英示威行脚으로 或은 鹽倉庫襲擊으로 或은 森林法破棄로 或은納稅拒絶己 或은 撤市로 或은餓死同盟으로 反英運動을 繼續하얏스며 때로는 英印圓卓會議에 參與하므로써 或은 印回兩敎徒間의 選擧區에 對한協定을 英本國에 電請하므로써 英國에 妥協하기도하얏다.그러나 要點은 現行 印度統治法이一九二九年末日로 滿期가 되므로 그뒤에 올 印度新統治法이印度人의 要呈여 얼마쯤 맛게해주는가를 監視하는데 不過하얏스나 英印間에成立한 英印協定은 印度國民會議派가 要求하든 愛□과가튼 自治領의 地位와는 相距가 멀므로 이에 反對하얏스나 非合法的 行動으로는 人命으로 四萬餘,財產上으로 累億의 犧牲을 본뒤라 到底히 繼續할주업스므로 畢竟 昨年四月 非軍事的反英運動의 中止를 决議하고,合法的 擧法에 依하야 議員을 多數 選出하야 議政壇上에서 同協定을 反對否决하야 今日의 結果에 이르킨것이다.\\n   三\\n 英印協定은 累次 本欄에서 報道批評한바와가티(一)英領印度를 十一州로分하야 이에 王侯國요 加하야 聯邦組織으로하고(二)總督은 國務大長의 輔弼에 依하야 行政을 行하는 方針으로 總督의 權限을 縮少하야 責任大臣의 管轄에 移하고(三)議會에 對해서도 王侯國을除하고는 모다 選擧制를 採用하야 現行印度統治法보다는 多少 進步的인것이 事實이다.그러나(一)本國의 重大利益을 確保하기위하야는 總督에게 國防外交及 宗敎에 關한 權限을 留保하고,(二)(1)印度의 安寧維持,(2)聯邦의 財政的安定及 信用의保障,(3)少數民族의 利益保障,(4)官吏의 利益保障,(5)通商上의 差別待遇防止等에 對하야 特別責任事項이라하야 大臣의 輔弼을 要치안는 同時에(三)立憲制度를 破壞하랴는 行動에對하야 非常手段을 附與한것은印度人에게 모쪼록 自由의 範圍를 縮少하도록한것이다.그뿐아니라 聯邦議會를 二院制로하야下院議員數 三百七十五名中 英領印度選出二百五十(有權者는人口의 約二%乃至 三%)王侯國에서 王侯의 指命하는耆 百二十五로하고 上院議員 二百六十名中 英領印度州議員選出 百五十王侯指命者□ 總督指命 十으로하얏스며 英領印度選出 下院議員에對하야는 各州마다 一般代表外에 特定한 小數民族,婦人,一定한 宗敎 又는 職業의 代表라하야 一定數의 議席을 配定한것은 結局 進步한 印度敎徒로하야금 親英的 王侯及 反動派의 牽制를밧도록한것이다.\\n四\\n 이와가티 印度國民會議派는는合法手段에 依하야 新生하랴는英印協定을 破棄하고 本來의主張인 愛□型의 自治領의 地位를 要求하거니와 果然 印度는이것으로써 即時 愛蘭型의 自治領의 地位를 占할수잇슬가.印度는 愛蘭과가티 英國의 政治的 植民地가아니라 經濟的 植民地며—濠洲나 南阿와가티 英本國人이 건너가 設立한 植民地가 아니랴 앵귤로싹손外의아리아族으로 된 植民地다.맥도날드首相이 머리를 알아 加奈陀에 攝養을간일이 잇섯지만,即時印度에 愛蘭型의 自治를許與할意思가 업는것은 거이英國의 旣定的 事實이니 英印間의抗爭은 今後 뜨한참 繼續될것이다.\\n'"
            ]
          },
          "execution_count": 12,
          "metadata": {},
          "output_type": "execute_result"
        }
      ],
      "source": [
        "# 학습할 데이터를 리스트 형태로 변경\n",
        "# 문장분리가 필요한가? https://github.com/bab2min/kiwipiepy/issues/132\n",
        "sentence_list = df['text'].tolist()\n",
        "sentence_list[0]"
      ]
    },
    {
      "cell_type": "code",
      "execution_count": 13,
      "metadata": {
        "colab": {
          "base_uri": "https://localhost:8080/"
        },
        "id": "kRKKDEvhiy61",
        "outputId": "b073aa0c-2ea7-4165-fc10-0647c7300e39"
      },
      "outputs": [
        {
          "name": "stderr",
          "output_type": "stream",
          "text": [
            "\n",
            "Tokenizing:   0%|          | 0/1000 [00:00<?, ?it/s]\u001b[A\n",
            "Tokenizing:   2%|▏         | 16/1000 [00:00<00:10, 90.81it/s]\u001b[A\n",
            "Tokenizing:   3%|▎         | 32/1000 [00:00<00:09, 99.91it/s]\u001b[A\n",
            "Tokenizing:   5%|▍         | 48/1000 [00:00<00:21, 44.90it/s]\u001b[A\n",
            "Tokenizing:   6%|▋         | 64/1000 [00:01<00:18, 50.32it/s]\u001b[A\n",
            "Tokenizing:  10%|▉         | 96/1000 [00:01<00:14, 61.09it/s]\u001b[A\n",
            "Tokenizing:  11%|█         | 112/1000 [00:01<00:12, 68.57it/s]\u001b[A\n",
            "Tokenizing:  14%|█▍        | 144/1000 [00:02<00:10, 80.14it/s]\u001b[A\n",
            "Tokenizing:  16%|█▌        | 160/1000 [00:02<00:09, 87.59it/s]\u001b[A\n",
            "Tokenizing:  19%|█▉        | 192/1000 [00:02<00:07, 110.16it/s]\u001b[A\n",
            "Tokenizing:  21%|██        | 208/1000 [00:02<00:07, 112.40it/s]\u001b[A\n",
            "Tokenizing:  22%|██▏       | 224/1000 [00:02<00:06, 119.80it/s]\u001b[A\n",
            "Tokenizing:  24%|██▍       | 240/1000 [00:02<00:07, 107.69it/s]\u001b[A\n",
            "Tokenizing:  26%|██▌       | 256/1000 [00:02<00:06, 110.45it/s]\u001b[A\n",
            "Tokenizing:  27%|██▋       | 272/1000 [00:03<00:07, 103.43it/s]\u001b[A\n",
            "Tokenizing:  29%|██▉       | 288/1000 [00:03<00:06, 107.57it/s]\u001b[A\n",
            "Tokenizing:  30%|███       | 304/1000 [00:03<00:06, 106.98it/s]\u001b[A\n",
            "Tokenizing:  32%|███▏      | 320/1000 [00:03<00:06, 110.89it/s]\u001b[A\n",
            "Tokenizing:  34%|███▎      | 336/1000 [00:03<00:08, 82.19it/s] \u001b[A\n",
            "Tokenizing:  35%|███▌      | 352/1000 [00:03<00:07, 90.48it/s]\u001b[A\n",
            "Tokenizing:  38%|███▊      | 384/1000 [00:04<00:06, 99.18it/s]\u001b[A\n",
            "Tokenizing:  40%|████      | 400/1000 [00:04<00:06, 98.35it/s]\u001b[A\n",
            "Tokenizing:  42%|████▏     | 416/1000 [00:04<00:06, 88.13it/s]\u001b[A\n",
            "Tokenizing:  43%|████▎     | 432/1000 [00:04<00:06, 89.01it/s]\u001b[A\n",
            "Tokenizing:  45%|████▍     | 448/1000 [00:05<00:05, 92.59it/s]\u001b[A\n",
            "Tokenizing:  46%|████▋     | 464/1000 [00:05<00:07, 73.36it/s]\u001b[A\n",
            "Tokenizing:  48%|████▊     | 480/1000 [00:05<00:09, 55.35it/s]\u001b[A\n",
            "Tokenizing:  50%|████▉     | 496/1000 [00:05<00:08, 62.71it/s]\u001b[A\n",
            "Tokenizing:  51%|█████     | 512/1000 [00:06<00:09, 52.04it/s]\u001b[A\n",
            "Tokenizing:  53%|█████▎    | 528/1000 [00:06<00:07, 62.81it/s]\u001b[A\n",
            "Tokenizing:  54%|█████▍    | 544/1000 [00:06<00:06, 71.85it/s]\u001b[A\n",
            "Tokenizing:  56%|█████▌    | 560/1000 [00:06<00:06, 66.49it/s]\u001b[A\n",
            "Tokenizing:  58%|█████▊    | 576/1000 [00:07<00:05, 76.74it/s]\u001b[A\n",
            "Tokenizing:  59%|█████▉    | 592/1000 [00:07<00:05, 78.12it/s]\u001b[A\n",
            "Tokenizing:  61%|██████    | 608/1000 [00:07<00:05, 67.55it/s]\u001b[A\n",
            "Tokenizing:  62%|██████▏   | 624/1000 [00:07<00:05, 69.77it/s]\u001b[A\n",
            "Tokenizing:  64%|██████▍   | 640/1000 [00:07<00:04, 81.85it/s]\u001b[A\n",
            "Tokenizing:  67%|██████▋   | 672/1000 [00:08<00:02, 110.72it/s]\u001b[A\n",
            "Tokenizing:  70%|███████   | 704/1000 [00:08<00:02, 105.45it/s]\u001b[A\n",
            "Tokenizing:  74%|███████▎  | 736/1000 [00:08<00:02, 108.65it/s]\u001b[A\n",
            "Tokenizing:  75%|███████▌  | 752/1000 [00:08<00:02, 115.71it/s]\u001b[A\n",
            "Tokenizing:  77%|███████▋  | 768/1000 [00:08<00:02, 113.35it/s]\u001b[A\n",
            "Tokenizing:  78%|███████▊  | 784/1000 [00:09<00:02, 95.86it/s] \u001b[A\n",
            "Tokenizing:  82%|████████▏ | 816/1000 [00:09<00:01, 115.43it/s]\u001b[A\n",
            "Tokenizing:  83%|████████▎ | 832/1000 [00:09<00:01, 112.53it/s]\u001b[A\n",
            "Tokenizing:  85%|████████▍ | 848/1000 [00:09<00:01, 110.05it/s]\u001b[A\n",
            "Tokenizing:  86%|████████▋ | 864/1000 [00:09<00:01, 111.62it/s]\u001b[A\n",
            "Tokenizing:  88%|████████▊ | 880/1000 [00:10<00:01, 90.55it/s] \u001b[A\n",
            "Tokenizing:  90%|████████▉ | 896/1000 [00:10<00:01, 100.59it/s]\u001b[A\n",
            "Tokenizing:  91%|█████████ | 912/1000 [00:10<00:00, 99.71it/s] \u001b[A\n",
            "Tokenizing:  93%|█████████▎| 928/1000 [00:10<00:00, 88.15it/s]\u001b[A\n",
            "Tokenizing:  94%|█████████▍| 944/1000 [00:10<00:00, 80.67it/s]\u001b[A\n",
            "Tokenizing:  96%|█████████▌| 960/1000 [00:10<00:00, 94.33it/s]\u001b[A\n",
            "Tokenizing:  98%|█████████▊| 976/1000 [00:11<00:00, 90.50it/s]\u001b[A\n",
            "Tokenizing: 100%|██████████| 1000/1000 [00:11<00:00, 86.72it/s]\n",
            "\n",
            "\n",
            "Tokenizing:  91%|█████████ | 912/1000 [02:57<00:00, 121.28it/s]\n",
            "Reducing #1:   0%|          | 0/1000 [00:00<?, ?it/s]\u001b[A\n",
            "Reducing #1:   0%|          | 0/1000 [00:00<?, ?it/s, vocab_size=18125, loss=-7.64]\u001b[A"
          ]
        },
        {
          "name": "stdout",
          "output_type": "stream",
          "text": [
            "Iteration: 0 VocabSize: 18125 Loss: -7.6416\n"
          ]
        },
        {
          "name": "stderr",
          "output_type": "stream",
          "text": [
            "\n",
            "Tokenizing:  91%|█████████ | 912/1000 [02:58<00:00, 121.28it/s]\n",
            "Reducing #1:   0%|          | 0/1000 [00:00<?, ?it/s, vocab_size=18125, loss=-7.64]\u001b[A\n",
            "Reducing #1:   0%|          | 1/1000 [00:00<07:19,  2.27it/s, vocab_size=18125, loss=-7.64]\u001b[A\n",
            "Reducing #1:   0%|          | 1/1000 [00:00<07:42,  2.16it/s, vocab_size=17856, loss=-7.62]\n"
          ]
        },
        {
          "name": "stdout",
          "output_type": "stream",
          "text": [
            "Iteration: 1 VocabSize: 17856 Loss: -7.6179\n",
            "Finished. Iteration: 1 VocabSize: 17856 Loss: -7.6179\n"
          ]
        }
      ],
      "source": [
        "# 학습\n",
        "# save_path = 토크나이저.json 파일 저장 위치\n",
        "# texts = 학습할 데이터(리스트)\n",
        "# vocab_size = 단어수\n",
        "# config = 학습 옵션\n",
        "tokenizer = SwTokenizer.train(save_path='./tokenizer.json', texts=sentence_list, vocab_size=50000, config=config)"
      ]
    },
    {
      "cell_type": "code",
      "execution_count": 16,
      "metadata": {
        "colab": {
          "base_uri": "https://localhost:8080/"
        },
        "id": "lPIdlYbZkA6i",
        "outputId": "3daf0e4d-807e-4640-f8bf-de5ad9a50cad"
      },
      "outputs": [
        {
          "name": "stdout",
          "output_type": "stream",
          "text": [
            "['印度', '##國民會議', '派', '의/J', '##議會', '##鬪爭', '英印協定', '##廢棄', '##可决', '一', '三十日', '뉴', '##델', '##리', '##發', '電報', '에/J', '依', '하/V', '면/E', '印度', '##立法', '##議會', '는/J', '##曩者', '英印', '##間', '에/J', '成立', '되/V', 'ᆫ/E', '英印協定', '을/J', '六', '##十六', '##票', '對', '##五', '##十九', '##票', '로/J', '廢棄', '하/V', '기/E', '로/J', '决定', '##하얏다', '하/V', 'ᆫ다/E', '##.', '##印度', '에/J', '##適', '##用', '하/V', '는/E', '##法律', '은/J', '印度', '##立', '##法', '##議會', '의/J', '議决', '을/J', '要', '하/V', '고/E', '英本國', '과/J', '關係', '되/V', '는/E', '##法律', '은/J', '英本國', '##議會', '의/J', '##議决', '##을', '##經', '하/V', '어서/E', '비', '##로서', '成立', '되/V', '는/E', '##것', '이/V', 'ᆫ데/E', '##英印協定', '이/J', '먼저', '印度', '##立法', '##議會', '에서/J', '廢棄', '##키로', '可决', '##되엇스니', '設', '##使', '##同', '##協定', '##이', '英本國', '##議會', '를/J', '通過', '하/V', 'ᆫ다/E', '하/V', '드래도/E', '印度', '에/J', '實施', '되/V', '지/E', '못하/V', '고/E', '말/V', 'ᆫ다/E', '##.', '##그러므로', '一九三', '##〇', '##年', '九月', '英印', '##第一', '##圓', '##卓', '##會議', '##以來', '##荏', '##苒', '五個年', '##餘', '를/J', '要', '하/V', '야/E', '##成立', '하/V', 'ᆫ/E', '##妥協', '##的', '##英印協定', '은/J', '그만', '水', '##泡', '로/J', '##歸', '하/V', '고/E', '英印', '##間', '에/J', '는/J', '##依然', '軋', '##轢', '##狀態', '가/J', '繼續', '하/V', '게/E', '되/V', '는/E', '##셈', '이/V', '다/E', '##.', '二', '印度', '##立法', '##議會', '가/J', '英印協定', '을/J', '##廢棄', '하/V', '기/E', '로/J', '可决', '##하게되', '裡', '##面', '에/J', '는/J', '印度', '##國民會議', '##派', '의/J', '活動', '이/J', '잇/V-I', '스/V', 'ᆷ/E', '을/J', '이', '##저서', '는/J', '안', '되/V', 'ᆫ다/E', '印度', '##國民會議', '##派', '는/J', '一九三', '##〇', '##年', '反', '##英', '##獨立', '을/J', '可决', '하/V', 'ᆫ/E', '##以來', '或', '은/J', '反', '##英', '##示威', '##行', '##脚', '으로/J', '或', '은/J', '鹽', '##倉庫', '##襲擊', '으로/J', '或', '은/J', '森', '##林', '##法', '##破棄', '로/J', '或', '은/J', '##納稅', '##拒', '##絶', '##己', '或', '은/J', '撤', '##市', '로/J', '或', '은/J', '##餓', '##死', '##同盟', '으로/J', '反', '##英', '##運動', '을/J', '繼續', '##하얏스', '이/V', '며/E', '##때로', '는/J', '英印', '##圓', '##卓', '##會議', '에/J', '參與', '하/V', '므로써/E', '或', '은/J', '印', '##回', '##兩', '##敎', '##徒', '##間', '의/J', '選擧', '##區', '에/J', '對', '하/V', 'ᆫ/E', '##協定', '을/J', '英本國', '에/J', '電', '##請', '하/V', '므로써/E', '英國', '에/J', '妥協', '하/V', '기/E', '도/J', '하/V', '##얏', '이/V', '다/E', '##.', '##그러나', '要', '##點', '은/J', '現行', '印度', '##統治', '##法', '이/J', '##一九二', '##九年', '##末日', '로/J', '滿', '##期', '가/J', '되/V', '므로/E', '그뒤', '에/J', '올', '印度', '##新', '##統治', '##法', '이/J', '##印度人', '의/J', '要', '##呈', '여/J', '얼마', '##쯤', '맛', '하/V', '게/E', '하/V', '어/E', '주/V', '는가/E', '를/J', '##監視', '하/V', '는/E', '##데', '不過', '##하얏스나', '英印', '##間', '에/J', '##成立', '하/V', 'ᆫ/E', '英印協定', '은/J', '印度', '##國民會議', '##派', '가/J', '要求', '하/V', '든/E', '愛', '##□', '##과', '가/J', '트/V', 'ᆫ/E', '自治', '##領', '의/J', '地位', '와/J', '는/J', '相', '##距', '가/J', '멀/V', '므로/E', '이', '에/J', '反對', '##하얏스나', '非合', '##法的', '行動', '으로/J', '는/J', '人', '##命', '으로/J', '四', '##萬餘', '##,', '##財產', '##上', '으로/J', '累', '##億', '의/J', '犧牲', '을/J', '보/V', 'ᆫ/E', '##뒤', '이/V', '라/E', '到底히', '繼續', '##할', '##주', '##업', '##스므로', '畢竟', '昨年', '##四月', '非', '##軍事', '##的', '##反', '##英', '##運動', '의/J', '中止', '를/J', '决議', '하/V', '고/E', '##,', '##合法', '##的', '擧', '##法', '에/J', '依', '하/V', '야/E', '##議員', '을/J', '多數', '##選出', '하/V', '야/E', '##議政', '##壇', '##上', '에서/J', '同', '##協定', '을/J', '反對', '##否', '##决', '하/V', '야/E', '今日', '의/J', '結果', '에/J', '이르/V-I', '키/V', 'ᆫ/E', '##것', '이/V', '다/E', '##.', '三', '英印協定', '은/J', '累', '##次', '本', '##欄', '에서/J', '報道', '##批評', '하/V', 'ᆫ/E', '##바', '와/J', '가/J', '##티', '##(', '##一', '##)', '##英', '##領', '##印度', '를/J', '十一', '##州', '로/J', '##分', '하/V', '야/E', '이', '에/J', '王侯', '##國', '이/V', '요/E', '加', '하/V', '야/E', '##聯邦', '##組織', '으로/J', '하/V', '고/E', '##(', '##二', '##)', '##總督', '은/J', '國務', '##大', '##長', '의/J', '輔', '##弼', '에/J', '依', '하/V', '야/E', '行政', '을/J', '行', '하/V', '는/E', '方針', '으로/J', '總督', '의/J', '權', '##限', '을/J', '##縮少', '하/V', '야/E', '責任', '##大臣', '의/J', '管', '##轄', '에/J', '移', '하/V', '고/E', '##(', '##三', '##)', '##議會', '에/J', '對', '하/V', '어서/E', '도/J', '王侯', '##國', '을/J', '##除', '하/V', '고/E', '는/J', '모다', '選擧', '##制', '를/J', '採用', '하/V', '야/E', '現行', '##印度', '##統治', '##法', '보다/J', '는/J', '多少', '進步', '##的', '이/V', 'ᆫ/E', '##것', '이/J', '事實', '이/V', '다/E', '##.', '##그러나', '##(', '##一', '##)', '##本國', '의/J', '重大', '##利益', '을/J', '確保', '하/V', '기/E', '##위하야', '는/J', '總督', '에게/J', '國防', '##外交', '##及', '宗敎', '에/J', '關', '하/V', 'ᆫ/E', '權', '##限', '을/J', '留', '##保', '하/V', '고/E', '##,', '##(', '##二', '##)', '##(', '##1', '##)', '##印度', '의/J', '安', '##寧', '##維持', '##,', '##(', '##2', '##)', '##聯邦', '의/J', '財政', '##的', '##安定', '##及', '信用', '의/J', '##保障', '##,', '##(', '##3', '##)', '##少', '##數', '##民族', '의/J', '利益', '##保障', '##,', '##(', '##4', '##)', '##官吏', '의/J', '##利益', '##保障', '##,', '##(', '##5', '##)', '##通商', '##上', '의/J', '差', '##別', '##待遇', '##防止', '##等', '에/J', '對', '하/V', '야/E', '特別', '##責任', '##事項', '이/V', '라/E', '##하야', '##大臣', '의/J', '輔', '##弼', '을/J', '要', '하/V', '지/E', '안/V', '는/E', '同時', '에/J', '##(', '##三', '##)', '##立', '##憲', '##制度', '를/J', '破壞', '하/V', '랴/E', '는/J', '行動', '에/J', '##對', '하/V', '야/E', '非常', '##手段', '을/J', '附', '##與', '하/V', 'ᆫ/E', '##것', '은/J', '##印度人', '에게/J', '모', '##쪼', '##록', '自由', '의/J', '##範圍', '를/J', '##縮少', '하/V', '도록/E', '하/V', 'ᆫ/E', '##것', '이/V', '다/E', '##.', '##그', '뿐/J', '아니/V', '라/E', '##聯邦', '##議會', '를/J', '二', '##院', '##制', '로/J', '##하야', '##下院', '##議員', '##數', '##三百七十', '##五名', '##中', '英', '##領', '##印度', '##選出', '##二', '##百五十', '##(', '##有', '##權', '##者', '는/J', '##人口', '의/J', '約二', '##%', '##乃至', '三', '##%', '##)', '##王侯', '##國', '에서/J', '王侯', '의/J', '指', '##命', '하/V', '는/E', '##耆', '##百二十五', '로/J', '하/V', '고/E', '##上院', '##議員', '二', '##百六十', '##名', '##中', '英', '##領', '##印度', '##州', '##議員', '##選出', '##百五十', '##王侯', '##指', '##命', '##者', '##□', '總督', '##指', '##命', '十', '##으로', '##하얏스며', '英', '##領', '##印度', '##選出', '下院', '##議員', '에/J', '##對', '하/V', '야/E', '는/J', '各', '##州', '마다/J', '一般', '##代表', '##外', '에/J', '特', '##定', '하/V', 'ᆫ/E', '小', '##數', '##民族', '##,', '##婦人', '##,', '##一定', '하/V', 'ᆫ/E', '宗敎', '又', '는/J', '##職業', '의/J', '代表', '이/V', '라/E', '##하야', '一', '##定數', '의/J', '議', '##席', '을/J', '##配定', '하/V', 'ᆫ/E', '##것', '은/J', '結局', '進步', '하/V', 'ᆫ/E', '印度', '##敎', '##徒', '로/J', '##하야금', '親', '##英', '##的', '王侯', '##及', '##反動', '##派', '의/J', '牽', '##制', '를/J', '##밧', '하/V', '도록/E', '하/V', 'ᆫ/E', '##것', '이/V', '다/E', '##.', '四', '이와가티', '印度', '##國民會議', '##派', '는/J', '는/E', '##合法', '##手段', '에/J', '依', '하/V', '야/E', '新', '##生', '하/V', '랴/E', '는/J', '##英印協定', '을/J', '##破棄', '하/V', '고/E', '本', '##來', '의/J', '##主張', '이/V', 'ᆫ/E', '愛', '##□', '##型', '의/J', '自治', '##領', '의/J', '地位', '를/J', '要求', '하/V', '거니와/E', '果然', '印度', '는/J', '##이것', '으로써/J', '即時', '愛', '##蘭', '##型', '의/J', '自治', '##領', '의/J', '地位', '를/J', '占', '하/V', 'ᆯ/E', '##수', '잇/V-I', '##슬', '가/V', '어/E', '##.', '##印度', '는/J', '愛', '##蘭', '##과가티', '英國', '의/J', '政治的', '植民地', '가/J', '아니/V', '라/E', '經濟的', '植民地', '이/V', '며/E', '##—', '##濠', '##洲', '나/J', '##南阿', '##와가티', '英本國', '##人', '이/J', '건너가/V', '어/E', '設立', '하/V', 'ᆫ/E', '植民地', '가/J', '아니/V', '랴/E', '앵', '##귤', '##로', '##싹', '##손', '##外', '의/J', '##아', '##리아', '##族', '으로/J', '되/V', 'ᆫ/E', '植民地', '이/V', '다/E', '##.', '##맥', '##도', '##날', '##드', '##首相', '이/J', '머리', '를/J', '알/V', '어/E', '加', '##奈', '##陀', '에/J', '攝', '##養', '을/J', '가/V', 'ᆫ/E', '##일', '이/J', '잇섯', '이/V', '지만/E', '##,', '##即時', '##印度', '에/J', '愛', '##蘭', '##型', '의/J', '自治', '를/J', '##許', '##與', '하/V', 'ᆯ/E', '##意思', '가/J', '업/V', '는/E', '##것', '은/J', '거이', '##英國', '의/J', '旣', '##定的', '事實', '이/V', '니/E', '英印', '##間', '의/J', '##抗爭', '은/J', '今後', '뜨', '##한참', '繼續', '되/V', 'ᆯ/E', '##것', '이/V', '다/E', '##.']\n"
          ]
        }
      ],
      "source": [
        "# 서브워드 토크나이저 성능 확인\n",
        "print([tokenizer.id2vocab[i] for i in tokenizer.encode(sentence_list[0])])"
      ]
    }
  ],
  "metadata": {
    "colab": {
      "authorship_tag": "ABX9TyM7R1Qlv0w+dP881fM9OVxS",
      "include_colab_link": true,
      "provenance": []
    },
    "kernelspec": {
      "display_name": "Python 3",
      "name": "python3"
    },
    "language_info": {
      "name": "python"
    }
  },
  "nbformat": 4,
  "nbformat_minor": 0
}
